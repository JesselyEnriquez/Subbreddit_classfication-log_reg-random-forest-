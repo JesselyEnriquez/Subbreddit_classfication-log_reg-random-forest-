{
 "cells": [
  {
   "cell_type": "code",
   "execution_count": 1,
   "metadata": {},
   "outputs": [],
   "source": [
    "import pandas as pd\n",
    "import numpy as np\n",
    "import seaborn as sns\n",
    "import matplotlib.pyplot as plt\n",
    "from sklearn.pipeline import Pipeline\n",
    "from sklearn.feature_extraction.text import CountVectorizer\n",
    "from sklearn.linear_model import LogisticRegression\n",
    "\n",
    "from sklearn.ensemble import RandomForestClassifier, ExtraTreesClassifier\n",
    "from sklearn.model_selection import cross_val_score, train_test_split, GridSearchCV\n",
    "from sklearn.metrics import confusion_matrix, plot_confusion_matrix\n",
    "# personal helper functions \n",
    "from helper_functions.nlp_helper_functions import punctuation_cntr, Lcase_counter, Ucase_counter\n"
   ]
  },
  {
   "cell_type": "code",
   "execution_count": 3,
   "metadata": {},
   "outputs": [
    {
     "data": {
      "text/html": [
       "<div>\n",
       "<style scoped>\n",
       "    .dataframe tbody tr th:only-of-type {\n",
       "        vertical-align: middle;\n",
       "    }\n",
       "\n",
       "    .dataframe tbody tr th {\n",
       "        vertical-align: top;\n",
       "    }\n",
       "\n",
       "    .dataframe thead th {\n",
       "        text-align: right;\n",
       "    }\n",
       "</style>\n",
       "<table border=\"1\" class=\"dataframe\">\n",
       "  <thead>\n",
       "    <tr style=\"text-align: right;\">\n",
       "      <th></th>\n",
       "      <th>selftext</th>\n",
       "      <th>title</th>\n",
       "      <th>target</th>\n",
       "    </tr>\n",
       "  </thead>\n",
       "  <tbody>\n",
       "    <tr>\n",
       "      <th>0</th>\n",
       "      <td>There are a lot of chauvinists in the U S who ...</td>\n",
       "      <td>Is Kamala Harris more at risk of assassination...</td>\n",
       "      <td>0</td>\n",
       "    </tr>\n",
       "    <tr>\n",
       "      <th>1</th>\n",
       "      <td>Let me explain The name of your movement shoul...</td>\n",
       "      <td>A push labeled Let mothers hold their babies</td>\n",
       "      <td>0</td>\n",
       "    </tr>\n",
       "    <tr>\n",
       "      <th>2</th>\n",
       "      <td>I have read about some horrific pit bull attac...</td>\n",
       "      <td>Why don t we see politicians supporting pit bu...</td>\n",
       "      <td>0</td>\n",
       "    </tr>\n",
       "    <tr>\n",
       "      <th>3</th>\n",
       "      <td>Some international observers have argued that ...</td>\n",
       "      <td>What threat does EU expansion pose towards Russia</td>\n",
       "      <td>0</td>\n",
       "    </tr>\n",
       "    <tr>\n",
       "      <th>4</th>\n",
       "      <td>Every definition of the term implies cheating ...</td>\n",
       "      <td>Why is gerrymandering legal</td>\n",
       "      <td>0</td>\n",
       "    </tr>\n",
       "  </tbody>\n",
       "</table>\n",
       "</div>"
      ],
      "text/plain": [
       "                                            selftext  \\\n",
       "0  There are a lot of chauvinists in the U S who ...   \n",
       "1  Let me explain The name of your movement shoul...   \n",
       "2  I have read about some horrific pit bull attac...   \n",
       "3  Some international observers have argued that ...   \n",
       "4  Every definition of the term implies cheating ...   \n",
       "\n",
       "                                               title  target  \n",
       "0  Is Kamala Harris more at risk of assassination...       0  \n",
       "1       A push labeled Let mothers hold their babies       0  \n",
       "2  Why don t we see politicians supporting pit bu...       0  \n",
       "3  What threat does EU expansion pose towards Russia       0  \n",
       "4                        Why is gerrymandering legal       0  "
      ]
     },
     "execution_count": 3,
     "metadata": {},
     "output_type": "execute_result"
    }
   ],
   "source": [
    "df_main = pd.read_csv('../data/cleaned_main.csv')\n",
    "\n",
    "# importing train/test data with features created in Logistic Regression notebook \n",
    "train_whole = pd.read_csv('../data/train_test_whole_dfs/train_whole.csv')\n",
    "y3_train = pd.read_csv('../data/train_test_whole_dfs/y_train.csv').reset_index(drop=True)\n",
    "test_whole = pd.read_csv('../data/train_test_whole_dfs/test_whole.csv')\n",
    "y3_test = pd.read_csv('../data/train_test_whole_dfs/y_test.csv').reset_index(drop=True)\n",
    "df_main.head()"
   ]
  },
  {
   "cell_type": "code",
   "execution_count": null,
   "metadata": {},
   "outputs": [
    {
     "name": "stdout",
     "output_type": "stream",
     "text": [
      "train whole shape:  (1485, 3003) (1485, 1)\n",
      "test whole shape:  (496, 3003) (496, 1)\n"
     ]
    }
   ],
   "source": [
    "print('train whole shape: ',train_whole.shape,y3_train.shape)\n",
    "print('test whole shape: ',test_whole.shape, y3_test.shape)\n",
    "# # should return the following\n",
    "# train whole shape:  (1485, 3005) (1485,)\n",
    "# test whole shape:  (496, 3005) (496,)"
   ]
  },
  {
   "cell_type": "code",
   "execution_count": null,
   "metadata": {},
   "outputs": [
    {
     "name": "stdout",
     "output_type": "stream",
     "text": [
      "class\n",
      "0        0.50303\n",
      "1        0.49697\n",
      "dtype: float64\n"
     ]
    },
    {
     "data": {
      "text/plain": [
       "class\n",
       "0        0.504032\n",
       "1        0.495968\n",
       "dtype: float64"
      ]
     },
     "execution_count": 67,
     "metadata": {},
     "output_type": "execute_result"
    }
   ],
   "source": [
    "# sanity check that this is still representative of a train_test_split \n",
    "print(y3_train.value_counts(normalize=True))\n",
    "y3_test.value_counts(normalize=True)"
   ]
  },
  {
   "cell_type": "code",
   "execution_count": 4,
   "metadata": {},
   "outputs": [
    {
     "data": {
      "text/plain": [
       "0.5032811711256941"
      ]
     },
     "execution_count": 4,
     "metadata": {},
     "output_type": "execute_result"
    }
   ],
   "source": [
    "# refresher of baseline accuracy (what we want to perform better)\n",
    "df_main['target'].value_counts(normalize=True)[0]"
   ]
  },
  {
   "cell_type": "markdown",
   "metadata": {},
   "source": [
    "--- \n",
    "Model Random Forest\n",
    "\n",
    "This first iteration will be performed with the original dataset to determine if this model is a stronger performer than the Logistic Regression model."
   ]
  },
  {
   "cell_type": "code",
   "execution_count": 6,
   "metadata": {},
   "outputs": [
    {
     "data": {
      "text/html": [
       "<div>\n",
       "<style scoped>\n",
       "    .dataframe tbody tr th:only-of-type {\n",
       "        vertical-align: middle;\n",
       "    }\n",
       "\n",
       "    .dataframe tbody tr th {\n",
       "        vertical-align: top;\n",
       "    }\n",
       "\n",
       "    .dataframe thead th {\n",
       "        text-align: right;\n",
       "    }\n",
       "</style>\n",
       "<table border=\"1\" class=\"dataframe\">\n",
       "  <thead>\n",
       "    <tr style=\"text-align: right;\">\n",
       "      <th></th>\n",
       "      <th>class</th>\n",
       "    </tr>\n",
       "  </thead>\n",
       "  <tbody>\n",
       "    <tr>\n",
       "      <th>0</th>\n",
       "      <td>1</td>\n",
       "    </tr>\n",
       "    <tr>\n",
       "      <th>1</th>\n",
       "      <td>0</td>\n",
       "    </tr>\n",
       "  </tbody>\n",
       "</table>\n",
       "</div>"
      ],
      "text/plain": [
       "   class\n",
       "0      1\n",
       "1      0"
      ]
     },
     "execution_count": 6,
     "metadata": {},
     "output_type": "execute_result"
    }
   ],
   "source": [
    "# reminder of renaming of column to account for the actual 'target' word found in the selftext\n",
    "y3_test.head(2)"
   ]
  },
  {
   "cell_type": "code",
   "execution_count": null,
   "metadata": {},
   "outputs": [
    {
     "name": "stdout",
     "output_type": "stream",
     "text": [
      "cross val score:  0.7481481481481482\n",
      "best score:  0.7542087542087541\n",
      "best params:  {'max_depth': None, 'n_estimators': 150}\n",
      "This is the baseline we want to perform better than 0.5032811711256941\n",
      "training score:  0.997979797979798\n",
      "test score:  0.7943548387096774\n"
     ]
    },
    {
     "data": {
      "image/png": "[encoded data removed]",
      "text/plain": [
       "<Figure size 432x288 with 1 Axes>"
      ]
     },
     "metadata": {
      "needs_background": "light"
     },
     "output_type": "display_data"
    }
   ],
   "source": [
    "# RANDOM FOREST ON ORIGINAL DATASET WITHOUT (UPPER/LOWER CASE COUNT OR PUNCTUATION COUNT )\n",
    "X = df_main.drop(columns=['target'])\n",
    "y = df_main['class']\n",
    "X_train, X_test, y_train, y_test = train_test_split(X,y,random_state=42,stratify=y)\n",
    "\n",
    "# instantiate a vectorizer with parameters from grid search used to create (whole train/test dataframes in model above)\n",
    "cvec = CountVectorizer(stop_words='english', # eliminating the basic stop words\n",
    "                       binary=True,\n",
    "                       lowercase =False, # we want to pay attention to case sensitivity later\n",
    "                        max_df= 0.75, # this is a form of creating a customized stop words list \n",
    "                        max_features= 3000,ngram_range=(1,1) ) \n",
    "\n",
    "# fit and transform on self text\n",
    "Xv_train = cvec.fit_transform(X_train['selftext'])\n",
    "Xv_test = cvec.transform(X_test['selftext'])\n",
    "\n",
    "# Convert X_train and X_test into a DataFrame.\n",
    "Xv_train_rf = pd.DataFrame(Xv_train.todense(),columns=cvec.get_feature_names())\n",
    "Xv_test_rf = pd.DataFrame(Xv_test.todense(),columns=cvec.get_feature_names())\n",
    "\n",
    "# initializing random forest model + grid search params\n",
    "rf = RandomForestClassifier(n_estimators=100)  # only creating 100 decision tree\n",
    "print('cross val score: ',cross_val_score(rf, Xv_train_rf, y_train, cv = 5).mean())\n",
    "rf_params = {\n",
    "    'n_estimators': [100, 150, 200],\n",
    "    'max_depth':[None, 1, 2, 3, 4, 5],\n",
    "}\n",
    "gs = GridSearchCV(rf, param_grid = rf_params,\n",
    "                 cv = 5, n_jobs = -1)\n",
    "# fitting to training data/outputing model evaluation\n",
    "gs.fit(Xv_train_rf, y_train)\n",
    "print('best score: ',gs.best_score_)\n",
    "print('best params: ',gs.best_params_)\n",
    "print('This is the baseline we want to perform better than',y.value_counts(normalize=True)[0])\n",
    "print('training score: ',gs.score(Xv_train_rf,y_train))\n",
    "print('test score: ',gs.score(Xv_test_rf,y_test))\n",
    "\n",
    "# checking results of confusion matrix on original dataframe (count vectorizer)\n",
    "cf_matrix = confusion_matrix(y_test, gs.predict(Xv_test_rf))\n",
    "\n",
    "cmd_obj = sns.heatmap(cf_matrix/np.sum(cf_matrix), annot=True, \n",
    "            fmt='.2%', cmap=\"BuPu\", cbar=False,xticklabels=['Political','Conspiracy'],\n",
    "            yticklabels=['Political','Conspiracy']);\n",
    "## also controls the title.\n",
    "cmd_obj\n",
    "plt.title('CFM Random Forest',color='black');\n",
    "plt.xlabel('Predicted',color='black');\n",
    "plt.ylabel('True',color='black');"
   ]
  },
  {
   "cell_type": "markdown",
   "metadata": {},
   "source": [
    "\n",
    "Note: <br>\n",
    "The model is clearly overfit and could use a drastic amount of work to improve not only the overfitting but the accuracy score as well to raise it to the point of the logstic regression model. If more time was provided this would be done, however since it is not the focus of the project will not iterate as heaviliy below. This model is mainly for exploration purposes.\n",
    "\n",
    "\n",
    "\n",
    "\n",
    "This model is performing fairly decent for just a basic iteration on the original data. However we will look at how it performs with the additional features I created in the Logistic Regression."
   ]
  },
  {
   "cell_type": "code",
   "execution_count": null,
   "metadata": {},
   "outputs": [
    {
     "name": "stdout",
     "output_type": "stream",
     "text": [
      "cross val score 0.8242424242424242\n",
      "0.8215488215488215\n",
      "training score:  1.0\n",
      "testing score: 0.8629032258064516\n"
     ]
    },
    {
     "data": {
      "image/png": "[encoded data removed]",
      "text/plain": [
       "<Figure size 432x288 with 1 Axes>"
      ]
     },
     "metadata": {
      "needs_background": "light"
     },
     "output_type": "display_data"
    }
   ],
   "source": [
    "# First attempt with random forest (After Features introduced: Upper/Lower Case & Punctuation Count) \n",
    "y3_train = y3_train['class'].copy()\n",
    "y3_test = y3_test['class'].copy()\n",
    "rf = RandomForestClassifier(n_estimators=100)  # only creating 100 decision tree\n",
    "print('cross val score',cross_val_score(rf, train_whole, y3_train, cv = 5).mean())\n",
    "rf_params = {\n",
    "    'n_estimators': [100, 150, 200],\n",
    "    'max_depth':[None, 1, 2, 3, 4, 5],\n",
    "}\n",
    "gs = GridSearchCV(rf, param_grid = rf_params,\n",
    "                 cv = 5, n_jobs = -1)\n",
    "\n",
    "gs.fit(train_whole, y3_train)\n",
    "print(gs.best_score_)\n",
    "gs.best_params_\n",
    "print('training score: ',gs.score(train_whole,y3_train))\n",
    "print('testing score:',gs.score(test_whole,y3_test))\n",
    "\n",
    "# checking results of confusion matrix with tfid vectorizer\n",
    "cf_matrix = confusion_matrix(y3_test, gs.predict(test_whole))\n",
    "\n",
    "cmd_obj = sns.heatmap(cf_matrix/np.sum(cf_matrix), annot=True, \n",
    "            fmt='.2%', cmap=\"BuPu\", cbar=False,xticklabels=['Political','Conspiracy'],\n",
    "            yticklabels=['Political','Conspiracy']);\n",
    "## also controls the title.\n",
    "cmd_obj\n",
    "plt.title('CFM Random Forest',color='black');\n",
    "plt.xlabel('Predicted',color='black');\n",
    "plt.ylabel('True',color='black');"
   ]
  },
  {
   "cell_type": "markdown",
   "metadata": {},
   "source": [
    "\n",
    "Note:\n",
    "We can clearly see that including the additional features drastically improved our score to the point of nearly where are best Logistic model was performing. The imbalance of our classification tends to hold as well in the Random Forest model as it did in the Logistic iterations.\n",
    "\n",
    "For exploration purposes we will examine how the random forest model performs with only the sentiment analysis, now remember none of the sentiment analyses should any high correlations with our target variable so we should not expect anything marevelous. "
   ]
  },
  {
   "cell_type": "markdown",
   "metadata": {},
   "source": [
    "--- \n",
    "Utilizing sentiment analysis for exploration only"
   ]
  },
  {
   "cell_type": "code",
   "execution_count": null,
   "metadata": {},
   "outputs": [
    {
     "data": {
      "text/html": [
       "<div>\n",
       "<style scoped>\n",
       "    .dataframe tbody tr th:only-of-type {\n",
       "        vertical-align: middle;\n",
       "    }\n",
       "\n",
       "    .dataframe tbody tr th {\n",
       "        vertical-align: top;\n",
       "    }\n",
       "\n",
       "    .dataframe thead th {\n",
       "        text-align: right;\n",
       "    }\n",
       "</style>\n",
       "<table border=\"1\" class=\"dataframe\">\n",
       "  <thead>\n",
       "    <tr style=\"text-align: right;\">\n",
       "      <th></th>\n",
       "      <th>neg</th>\n",
       "      <th>neu</th>\n",
       "      <th>pos</th>\n",
       "      <th>compound</th>\n",
       "      <th>text</th>\n",
       "      <th>selftext</th>\n",
       "      <th>title</th>\n",
       "      <th>target</th>\n",
       "      <th>punctuation_count</th>\n",
       "      <th>word_count</th>\n",
       "    </tr>\n",
       "  </thead>\n",
       "  <tbody>\n",
       "    <tr>\n",
       "      <th>0</th>\n",
       "      <td>0.104</td>\n",
       "      <td>0.789</td>\n",
       "      <td>0.107</td>\n",
       "      <td>0.2955</td>\n",
       "      <td>There are a lot of chauvinists in the U.S. who...</td>\n",
       "      <td>There are a lot of chauvinists in the U.S. who...</td>\n",
       "      <td>Is Kamala Harris more at risk of assassination...</td>\n",
       "      <td>0.0</td>\n",
       "      <td>60.0</td>\n",
       "      <td>206.0</td>\n",
       "    </tr>\n",
       "    <tr>\n",
       "      <th>1</th>\n",
       "      <td>0.067</td>\n",
       "      <td>0.804</td>\n",
       "      <td>0.129</td>\n",
       "      <td>0.7897</td>\n",
       "      <td>Let me explain. The name of your movement shou...</td>\n",
       "      <td>Let me explain. The name of your movement shou...</td>\n",
       "      <td>A push labeled \"Let mothers hold their babies\"</td>\n",
       "      <td>0.0</td>\n",
       "      <td>120.0</td>\n",
       "      <td>454.0</td>\n",
       "    </tr>\n",
       "    <tr>\n",
       "      <th>2</th>\n",
       "      <td>0.263</td>\n",
       "      <td>0.737</td>\n",
       "      <td>0.000</td>\n",
       "      <td>-0.9559</td>\n",
       "      <td>I have read about some horrific pit bull attac...</td>\n",
       "      <td>I have read about some horrific pit bull attac...</td>\n",
       "      <td>Why don't we see politicians supporting pit bu...</td>\n",
       "      <td>0.0</td>\n",
       "      <td>77.0</td>\n",
       "      <td>267.0</td>\n",
       "    </tr>\n",
       "    <tr>\n",
       "      <th>3</th>\n",
       "      <td>0.109</td>\n",
       "      <td>0.737</td>\n",
       "      <td>0.154</td>\n",
       "      <td>0.4606</td>\n",
       "      <td>Some international observers have argued that...</td>\n",
       "      <td>Some international observers have argued that...</td>\n",
       "      <td>What threat does EU expansion pose towards Rus...</td>\n",
       "      <td>0.0</td>\n",
       "      <td>82.0</td>\n",
       "      <td>412.0</td>\n",
       "    </tr>\n",
       "    <tr>\n",
       "      <th>4</th>\n",
       "      <td>0.146</td>\n",
       "      <td>0.854</td>\n",
       "      <td>0.000</td>\n",
       "      <td>-0.5574</td>\n",
       "      <td>Every definition of the term implies cheating....</td>\n",
       "      <td>Every definition of the term implies cheating....</td>\n",
       "      <td>Why is gerrymandering legal?</td>\n",
       "      <td>0.0</td>\n",
       "      <td>24.0</td>\n",
       "      <td>98.0</td>\n",
       "    </tr>\n",
       "  </tbody>\n",
       "</table>\n",
       "</div>"
      ],
      "text/plain": [
       "     neg    neu    pos  compound  \\\n",
       "0  0.104  0.789  0.107    0.2955   \n",
       "1  0.067  0.804  0.129    0.7897   \n",
       "2  0.263  0.737  0.000   -0.9559   \n",
       "3  0.109  0.737  0.154    0.4606   \n",
       "4  0.146  0.854  0.000   -0.5574   \n",
       "\n",
       "                                                text  \\\n",
       "0  There are a lot of chauvinists in the U.S. who...   \n",
       "1  Let me explain. The name of your movement shou...   \n",
       "2  I have read about some horrific pit bull attac...   \n",
       "3   Some international observers have argued that...   \n",
       "4  Every definition of the term implies cheating....   \n",
       "\n",
       "                                            selftext  \\\n",
       "0  There are a lot of chauvinists in the U.S. who...   \n",
       "1  Let me explain. The name of your movement shou...   \n",
       "2  I have read about some horrific pit bull attac...   \n",
       "3   Some international observers have argued that...   \n",
       "4  Every definition of the term implies cheating....   \n",
       "\n",
       "                                               title  target  \\\n",
       "0  Is Kamala Harris more at risk of assassination...     0.0   \n",
       "1     A push labeled \"Let mothers hold their babies\"     0.0   \n",
       "2  Why don't we see politicians supporting pit bu...     0.0   \n",
       "3  What threat does EU expansion pose towards Rus...     0.0   \n",
       "4                       Why is gerrymandering legal?     0.0   \n",
       "\n",
       "   punctuation_count  word_count  \n",
       "0               60.0       206.0  \n",
       "1              120.0       454.0  \n",
       "2               77.0       267.0  \n",
       "3               82.0       412.0  \n",
       "4               24.0        98.0  "
      ]
     },
     "execution_count": 72,
     "metadata": {},
     "output_type": "execute_result"
    }
   ],
   "source": [
    "sentiment_whole = pd.read_csv('../data/sentiment_whole.csv')\n",
    "# there should not be any nulls but in case\n",
    "sentiment_whole.dropna(inplace=True)\n",
    "# note will use the counts from this csv moving forward\n",
    "sentiment_whole.head()"
   ]
  },
  {
   "cell_type": "code",
   "execution_count": null,
   "metadata": {},
   "outputs": [
    {
     "name": "stdout",
     "output_type": "stream",
     "text": [
      "cross val score:  0.7595027870680044\n",
      "best score:  0.7635250836120402\n",
      "best params:  {'max_depth': None, 'n_estimators': 100}\n",
      "This is the baseline we want to perform better than 0.500501002004008\n",
      "training score:  0.9986639946559787\n",
      "test score:  0.7835671342685371\n"
     ]
    },
    {
     "data": {
      "image/png": "[encoded data removed]",
      "text/plain": [
       "<Figure size 432x288 with 1 Axes>"
      ]
     },
     "metadata": {
      "needs_background": "light"
     },
     "output_type": "display_data"
    }
   ],
   "source": [
    "# Random forest using sentiment analysis (excluding lower/uppercase counts)\n",
    "X = sentiment_whole.drop(columns=['target'])\n",
    "y = sentiment_whole['target']\n",
    "X_train, X_test, y_train, y_test = train_test_split(X,y,random_state=42,stratify=y)\n",
    "\n",
    "# instantiate a vectorizer with parameters from grid search used to create (whole train/test dataframes in model above)\n",
    "cvec = CountVectorizer(stop_words='english', # eliminating the basic stop words\n",
    "                       binary=True,\n",
    "                       lowercase =False, # we want to pay attention to case sensitivity later\n",
    "                        max_df= 0.75, # this is a form of creating a customized stop words list \n",
    "                        max_features= 3000,ngram_range=(1,1) ) \n",
    "\n",
    "# fit and transform on self text\n",
    "Xv_train = cvec.fit_transform(X_train['selftext'])\n",
    "Xv_test = cvec.transform(X_test['selftext'])\n",
    "\n",
    "# Convert X_train and X_test into a DataFrame.\n",
    "Xv_train_rf = pd.DataFrame(Xv_train.todense(),columns=cvec.get_feature_names())\n",
    "Xv_test_rf = pd.DataFrame(Xv_test.todense(),columns=cvec.get_feature_names())\n",
    "\n",
    "# initializing random forest model + grid search params\n",
    "rf = RandomForestClassifier(n_estimators=100)  # only creating 100 decision tree\n",
    "print('cross val score: ',cross_val_score(rf, Xv_train_rf, y_train, cv = 5).mean())\n",
    "rf_params = {\n",
    "    'n_estimators': [100, 150, 200],\n",
    "    'max_depth':[None, 1, 2, 3, 4, 5],\n",
    "}\n",
    "gs = GridSearchCV(rf, param_grid = rf_params,\n",
    "                 cv = 5, n_jobs = -1)\n",
    "# fitting to training data/outputing model evaluation\n",
    "gs.fit(Xv_train_rf, y_train)\n",
    "print('best score: ',gs.best_score_)\n",
    "print('best params: ',gs.best_params_)\n",
    "print('This is the baseline we want to perform better than',y.value_counts(normalize=True)[0])\n",
    "print('training score: ',gs.score(Xv_train_rf,y_train))\n",
    "print('test score: ',gs.score(Xv_test_rf,y_test))\n",
    "\n",
    "# checking results of confusion matrix on original dataframe (count vectorizer)\n",
    "cf_matrix = confusion_matrix(y_test, gs.predict(Xv_test_rf))\n",
    "\n",
    "cmd_obj = sns.heatmap(cf_matrix/np.sum(cf_matrix), annot=True, \n",
    "            fmt='.2%', cmap=\"BuPu\", cbar=False,xticklabels=['Political','Conspiracy'],\n",
    "            yticklabels=['Political','Conspiracy']);\n",
    "## also controls the title.\n",
    "cmd_obj\n",
    "plt.title('CFM Random Forest (without upper/lower case counts)',color='black');\n",
    "plt.xlabel('Predicted',color='black');\n",
    "plt.ylabel('True',color='black');"
   ]
  },
  {
   "cell_type": "markdown",
   "metadata": {},
   "source": [
    "Unfortunately as expeceted this model did not perform highly on just the sentiment analysis, an interesting attempt can be made in the future to include the setiment analysis this the vectorized data then try to make predictions on our text. However, it has the potential to be as 'fruitful' as when we introduced our features to the logistic regression so to continue addressing the problem for Serra we will not move forward and explore the final conclusions in the Logistic Regression notebook."
   ]
  }
 ],
 "metadata": {
  "interpreter": {
   "hash": "40d3a090f54c6569ab1632332b64b2c03c39dcf918b08424e98f38b5ae0af88f"
  },
  "kernelspec": {
   "display_name": "Python 3.8.8 ('base')",
   "language": "python",
   "name": "python3"
  },
  "language_info": {
   "codemirror_mode": {
    "name": "ipython",
    "version": 3
   },
   "file_extension": ".py",
   "mimetype": "text/x-python",
   "name": "python",
   "nbconvert_exporter": "python",
   "pygments_lexer": "ipython3",
   "version": "3.9.7"
  },
  "orig_nbformat": 4
 },
 "nbformat": 4,
 "nbformat_minor": 2
}
