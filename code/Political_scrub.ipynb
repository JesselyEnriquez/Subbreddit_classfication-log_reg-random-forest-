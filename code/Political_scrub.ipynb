{
 "cells": [
  {
   "cell_type": "code",
   "execution_count": 5,
   "id": "9de6f418-2367-45e8-8ddb-50f8251b01de",
   "metadata": {},
   "outputs": [],
   "source": [
    "# how to just get submissions\n",
    "\n",
    "# /reddit/search/submission\n",
    "import pandas as pd\n",
    "import requests\n",
    "import pandas as pd\n",
    "import requests\n",
    "from datetime import datetime\n",
    "import time\n",
    "import random\n",
    "\n",
    "# custom helper functions for this project (located in nlp_helper_functions.py)\n",
    "from helper_functions.nlp_helper_function import get_df\n",
    "from helper_functions.nlp_helper_function import pre_process\n",
    "\n",
    "from nltk.tokenize import sent_tokenize, word_tokenize, RegexpTokenizer\n"
   ]
  },
  {
   "cell_type": "code",
   "execution_count": null,
   "id": "6c3ec79a",
   "metadata": {},
   "outputs": [],
   "source": [
    "# gathering data for the respective subreddits 'AskPolitics' and 'Conspiracy'\n",
    "df = get_df('AskPolitics')\n",
    "df.to_csv('./data/ask_politics.csv')\n",
    "df_main = get_df('conspiracy')\n",
    "df_main.to_csv('./data/conspiracy.csv')"
   ]
  },
  {
   "cell_type": "markdown",
   "id": "2cb35e6a",
   "metadata": {},
   "source": [
    "The get_df is a helper function that can be found in the .py file 'helper functions'. As a general overview the function utilizes the request library to gather data utilizing the   Reddit Pushshift API and is only able to gather selftext and title text data of up to 3,000 posts."
   ]
  },
  {
   "cell_type": "code",
   "execution_count": 6,
   "id": "db6b58f1",
   "metadata": {},
   "outputs": [
    {
     "name": "stdout",
     "output_type": "stream",
     "text": [
      "orignal political df shape:  (2889, 85)\n",
      "shape of duplicates (852, 85)\n",
      "after removing duplicates (1984, 85)\n"
     ]
    }
   ],
   "source": [
    "df_pol = pd.read_csv('../data/ask_politics.csv')\n",
    "print('orignal political df shape: ',df_pol.shape)\n",
    "df_pol[(df_pol['selftext'].duplicated()) & (df_pol['selftext'] !='')].sort_values(ascending=False, by='selftext')['selftext'].value_counts(ascending=False)\n",
    "print('shape of duplicates',df_pol[(df_pol['selftext'].duplicated()) & (df_pol['selftext'] !='')& (df_pol['selftext'] !='[removed]')& (df_pol['selftext'] !='[deleted]')].sort_values(ascending=False, by='selftext').shape)\n",
    "index_pol = df_pol[(df_pol['selftext'].duplicated())].index\n",
    "df_pol.drop(index=index_pol,inplace=True)\n",
    "print('after removing duplicates',df_pol.shape)"
   ]
  },
  {
   "cell_type": "code",
   "execution_count": 7,
   "id": "5af4ca02",
   "metadata": {},
   "outputs": [
    {
     "name": "stdout",
     "output_type": "stream",
     "text": [
      "orignal conspiracy df shape:  (2832, 79)\n",
      "shape of duplicates (1678, 79)\n",
      "after removing duplicates (1019, 79)\n"
     ]
    }
   ],
   "source": [
    "df_con = pd.read_csv('../data/conspiracy.csv')\n",
    "print('orignal conspiracy df shape: ',df_con.shape)\n",
    "df_con[(df_con['selftext'].duplicated()) & (df_con['selftext'] !='')& (df_con['selftext'] !='[removed]')& (df_con['selftext'] !='[deleted]')].sort_values(ascending=False, by='selftext')['selftext'].value_counts(ascending=False)\n",
    "print('shape of duplicates',df_con[(df_con['selftext'].duplicated()) & (df_con['selftext'] !='')& (df_con['selftext'] !='[removed]')& (df_con['selftext'] !='[deleted]')].sort_values(ascending=False, by='selftext').shape)\n",
    "index_con = df_con[(df_con['selftext'].duplicated())].index\n",
    "df_con.drop(index=index_con,inplace=True)\n",
    "print('after removing duplicates',df_con.shape)"
   ]
  },
  {
   "cell_type": "markdown",
   "id": "4ccd7a4c",
   "metadata": {},
   "source": [
    "A majority of these duplicates come from having NaN values or deleted posts from the moderators. However to maintain balanced classes for the future classification models to train on the shape of the smallest. In this case df_con will be used for the baseline to have an equal amount of observations, once the duplicated rows are dropped. "
   ]
  },
  {
   "cell_type": "code",
   "execution_count": 10,
   "id": "d4b75f08",
   "metadata": {},
   "outputs": [
    {
     "name": "stdout",
     "output_type": "stream",
     "text": [
      "wrk_con columns:  (1000, 3)\n",
      "wrk_pol columns:  (1000, 3)\n"
     ]
    },
    {
     "data": {
      "text/html": [
       "<div>\n",
       "<style scoped>\n",
       "    .dataframe tbody tr th:only-of-type {\n",
       "        vertical-align: middle;\n",
       "    }\n",
       "\n",
       "    .dataframe tbody tr th {\n",
       "        vertical-align: top;\n",
       "    }\n",
       "\n",
       "    .dataframe thead th {\n",
       "        text-align: right;\n",
       "    }\n",
       "</style>\n",
       "<table border=\"1\" class=\"dataframe\">\n",
       "  <thead>\n",
       "    <tr style=\"text-align: right;\">\n",
       "      <th></th>\n",
       "      <th>selftext</th>\n",
       "      <th>title</th>\n",
       "      <th>target</th>\n",
       "    </tr>\n",
       "  </thead>\n",
       "  <tbody>\n",
       "    <tr>\n",
       "      <th>0</th>\n",
       "      <td>There are a lot of chauvinists in the U.S. who...</td>\n",
       "      <td>Is Kamala Harris more at risk of assassination...</td>\n",
       "      <td>0</td>\n",
       "    </tr>\n",
       "    <tr>\n",
       "      <th>1</th>\n",
       "      <td>Let me explain. The name of your movement shou...</td>\n",
       "      <td>A push labeled \"Let mothers hold their babies\"</td>\n",
       "      <td>0</td>\n",
       "    </tr>\n",
       "    <tr>\n",
       "      <th>2</th>\n",
       "      <td>I have read about some horrific pit bull attac...</td>\n",
       "      <td>Why don't we see politicians supporting pit bu...</td>\n",
       "      <td>0</td>\n",
       "    </tr>\n",
       "    <tr>\n",
       "      <th>3</th>\n",
       "      <td>Some international observers have argued that...</td>\n",
       "      <td>What threat does EU expansion pose towards Rus...</td>\n",
       "      <td>0</td>\n",
       "    </tr>\n",
       "    <tr>\n",
       "      <th>4</th>\n",
       "      <td>Every definition of the term implies cheating....</td>\n",
       "      <td>Why is gerrymandering legal?</td>\n",
       "      <td>0</td>\n",
       "    </tr>\n",
       "  </tbody>\n",
       "</table>\n",
       "</div>"
      ],
      "text/plain": [
       "                                            selftext  \\\n",
       "0  There are a lot of chauvinists in the U.S. who...   \n",
       "1  Let me explain. The name of your movement shou...   \n",
       "2  I have read about some horrific pit bull attac...   \n",
       "3   Some international observers have argued that...   \n",
       "4  Every definition of the term implies cheating....   \n",
       "\n",
       "                                               title  target  \n",
       "0  Is Kamala Harris more at risk of assassination...       0  \n",
       "1     A push labeled \"Let mothers hold their babies\"       0  \n",
       "2  Why don't we see politicians supporting pit bu...       0  \n",
       "3  What threat does EU expansion pose towards Rus...       0  \n",
       "4                       Why is gerrymandering legal?       0  "
      ]
     },
     "execution_count": 10,
     "metadata": {},
     "output_type": "execute_result"
    }
   ],
   "source": [
    "# creating target variables for each respective df\n",
    "df_con['target'] = 1\n",
    "df_pol['target'] = 0\n",
    "\n",
    "# isolating columns to be utilized in classification models\n",
    "wrk_con = df_con[['selftext','title','target']].copy()\n",
    "wrk_pol = df_pol[['selftext','title','target']].copy()\n",
    "\n",
    "# balancing out these classes\n",
    "wrk_con.drop(wrk_con.tail(19).index,inplace=True)\n",
    "wrk_pol.drop(wrk_pol.tail(984).index,inplace=True)\n",
    "print('wrk_con columns: ',wrk_con.shape)\n",
    "print('wrk_pol columns: ',wrk_pol.shape)\n",
    "# storing as a clean csv for future eda\n",
    "df_con.to_csv('../data/clean_df_con.csv')\n",
    "df_pol.to_csv('../data/clean_df_pol.csv')\n",
    "# will now merge these two dfs\n",
    "df_main = wrk_pol.append(wrk_con,ignore_index=True)\n",
    "df_main.head()\n"
   ]
  },
  {
   "cell_type": "markdown",
   "id": "6310207d-cd83-421d-8595-c0fa9202386b",
   "metadata": {},
   "source": [
    "---\n",
    "Quick Cleaning for a Sentiment Analysis below will be used in random forest exploration notebook"
   ]
  },
  {
   "cell_type": "code",
   "execution_count": 15,
   "id": "5dd94b75",
   "metadata": {},
   "outputs": [
    {
     "data": {
      "text/plain": [
       "0    There are a lot of chauvinists in the U.S. who...\n",
       "1    Let me explain. The name of your movement shou...\n",
       "2    I have read about some horrific pit bull attac...\n",
       "3     Some international observers have argued that...\n",
       "4    Every definition of the term implies cheating....\n",
       "Name: selftext, dtype: object"
      ]
     },
     "execution_count": 15,
     "metadata": {},
     "output_type": "execute_result"
    }
   ],
   "source": [
    "df_main_cleaned = df_main.copy()\n",
    "\n",
    "df_main_cleaned['selftext'].head()\n"
   ]
  },
  {
   "cell_type": "code",
   "execution_count": 25,
   "id": "e2021225",
   "metadata": {},
   "outputs": [
    {
     "data": {
      "text/html": [
       "<div>\n",
       "<style scoped>\n",
       "    .dataframe tbody tr th:only-of-type {\n",
       "        vertical-align: middle;\n",
       "    }\n",
       "\n",
       "    .dataframe tbody tr th {\n",
       "        vertical-align: top;\n",
       "    }\n",
       "\n",
       "    .dataframe thead th {\n",
       "        text-align: right;\n",
       "    }\n",
       "</style>\n",
       "<table border=\"1\" class=\"dataframe\">\n",
       "  <thead>\n",
       "    <tr style=\"text-align: right;\">\n",
       "      <th></th>\n",
       "      <th>selftext</th>\n",
       "      <th>title</th>\n",
       "      <th>target</th>\n",
       "    </tr>\n",
       "  </thead>\n",
       "  <tbody>\n",
       "    <tr>\n",
       "      <th>0</th>\n",
       "      <td>There are a lot of chauvinists in the U S who ...</td>\n",
       "      <td>Is Kamala Harris more at risk of assassination...</td>\n",
       "      <td>0</td>\n",
       "    </tr>\n",
       "    <tr>\n",
       "      <th>1</th>\n",
       "      <td>Let me explain The name of your movement shoul...</td>\n",
       "      <td>A push labeled Let mothers hold their babies</td>\n",
       "      <td>0</td>\n",
       "    </tr>\n",
       "    <tr>\n",
       "      <th>2</th>\n",
       "      <td>I have read about some horrific pit bull attac...</td>\n",
       "      <td>Why don t we see politicians supporting pit bu...</td>\n",
       "      <td>0</td>\n",
       "    </tr>\n",
       "    <tr>\n",
       "      <th>3</th>\n",
       "      <td>Some international observers have argued that ...</td>\n",
       "      <td>What threat does EU expansion pose towards Russia</td>\n",
       "      <td>0</td>\n",
       "    </tr>\n",
       "    <tr>\n",
       "      <th>4</th>\n",
       "      <td>Every definition of the term implies cheating ...</td>\n",
       "      <td>Why is gerrymandering legal</td>\n",
       "      <td>0</td>\n",
       "    </tr>\n",
       "  </tbody>\n",
       "</table>\n",
       "</div>"
      ],
      "text/plain": [
       "                                            selftext  \\\n",
       "0  There are a lot of chauvinists in the U S who ...   \n",
       "1  Let me explain The name of your movement shoul...   \n",
       "2  I have read about some horrific pit bull attac...   \n",
       "3  Some international observers have argued that ...   \n",
       "4  Every definition of the term implies cheating ...   \n",
       "\n",
       "                                               title  target  \n",
       "0  Is Kamala Harris more at risk of assassination...       0  \n",
       "1       A push labeled Let mothers hold their babies       0  \n",
       "2  Why don t we see politicians supporting pit bu...       0  \n",
       "3  What threat does EU expansion pose towards Russia       0  \n",
       "4                        Why is gerrymandering legal       0  "
      ]
     },
     "execution_count": 25,
     "metadata": {},
     "output_type": "execute_result"
    }
   ],
   "source": [
    "# will overwrite the function removing the emoticons, line breaks('\\n'), and the punctuation \n",
    "df_main_cleaned['selftext'] = df_main_cleaned['selftext'].apply(pre_process) \n",
    "df_main_cleaned['title'] = df_main_cleaned['title'].apply(pre_process)\n",
    "df_main_cleaned.to_csv('../data/cleaned_main.csv',index=False)\n",
    "df_main_cleaned.head()"
   ]
  },
  {
   "cell_type": "code",
   "execution_count": 17,
   "id": "59ba8858",
   "metadata": {},
   "outputs": [
    {
     "data": {
      "text/plain": [
       "['There are a lot of chauvinists in the U S who don t want to see a female president so I feel like Joe Biden is the least likely to be targeted president we ve had I would fear more for Harris s safety than Biden s since people wouldn t want her to be next in line']"
      ]
     },
     "execution_count": 17,
     "metadata": {},
     "output_type": "execute_result"
    }
   ],
   "source": [
    "corpus = list(df_main_cleaned['selftext'])\n",
    "corpus[:1]"
   ]
  },
  {
   "cell_type": "code",
   "execution_count": 18,
   "id": "a70c46e5",
   "metadata": {},
   "outputs": [
    {
     "data": {
      "text/plain": [
       "{'neg': 0.099, 'neu': 0.775, 'pos': 0.126, 'compound': 0.4756}"
      ]
     },
     "execution_count": 18,
     "metadata": {},
     "output_type": "execute_result"
    }
   ],
   "source": [
    "#instantiate SIA\n",
    "sia = SentimentIntensityAnalyzer()\n",
    "\n",
    "#Get polarity scores for the first selftext post\n",
    "sia.polarity_scores(corpus[1])"
   ]
  },
  {
   "cell_type": "code",
   "execution_count": 19,
   "id": "636e73d9",
   "metadata": {},
   "outputs": [
    {
     "data": {
      "text/html": [
       "<div>\n",
       "<style scoped>\n",
       "    .dataframe tbody tr th:only-of-type {\n",
       "        vertical-align: middle;\n",
       "    }\n",
       "\n",
       "    .dataframe tbody tr th {\n",
       "        vertical-align: top;\n",
       "    }\n",
       "\n",
       "    .dataframe thead th {\n",
       "        text-align: right;\n",
       "    }\n",
       "</style>\n",
       "<table border=\"1\" class=\"dataframe\">\n",
       "  <thead>\n",
       "    <tr style=\"text-align: right;\">\n",
       "      <th></th>\n",
       "      <th>neg</th>\n",
       "      <th>neu</th>\n",
       "      <th>pos</th>\n",
       "      <th>compound</th>\n",
       "      <th>text</th>\n",
       "    </tr>\n",
       "  </thead>\n",
       "  <tbody>\n",
       "    <tr>\n",
       "      <th>0</th>\n",
       "      <td>0.059</td>\n",
       "      <td>0.787</td>\n",
       "      <td>0.154</td>\n",
       "      <td>0.5010</td>\n",
       "      <td>There are a lot of chauvinists in the U S who ...</td>\n",
       "    </tr>\n",
       "    <tr>\n",
       "      <th>1</th>\n",
       "      <td>0.099</td>\n",
       "      <td>0.775</td>\n",
       "      <td>0.126</td>\n",
       "      <td>0.4756</td>\n",
       "      <td>Let me explain The name of your movement shoul...</td>\n",
       "    </tr>\n",
       "    <tr>\n",
       "      <th>2</th>\n",
       "      <td>0.235</td>\n",
       "      <td>0.729</td>\n",
       "      <td>0.035</td>\n",
       "      <td>-0.9297</td>\n",
       "      <td>I have read about some horrific pit bull attac...</td>\n",
       "    </tr>\n",
       "    <tr>\n",
       "      <th>3</th>\n",
       "      <td>0.108</td>\n",
       "      <td>0.743</td>\n",
       "      <td>0.149</td>\n",
       "      <td>0.3919</td>\n",
       "      <td>Some international observers have argued that ...</td>\n",
       "    </tr>\n",
       "    <tr>\n",
       "      <th>4</th>\n",
       "      <td>0.146</td>\n",
       "      <td>0.854</td>\n",
       "      <td>0.000</td>\n",
       "      <td>-0.5574</td>\n",
       "      <td>Every definition of the term implies cheating ...</td>\n",
       "    </tr>\n",
       "  </tbody>\n",
       "</table>\n",
       "</div>"
      ],
      "text/plain": [
       "     neg    neu    pos  compound  \\\n",
       "0  0.059  0.787  0.154    0.5010   \n",
       "1  0.099  0.775  0.126    0.4756   \n",
       "2  0.235  0.729  0.035   -0.9297   \n",
       "3  0.108  0.743  0.149    0.3919   \n",
       "4  0.146  0.854  0.000   -0.5574   \n",
       "\n",
       "                                                text  \n",
       "0  There are a lot of chauvinists in the U S who ...  \n",
       "1  Let me explain The name of your movement shoul...  \n",
       "2  I have read about some horrific pit bull attac...  \n",
       "3  Some international observers have argued that ...  \n",
       "4  Every definition of the term implies cheating ...  "
      ]
     },
     "execution_count": 19,
     "metadata": {},
     "output_type": "execute_result"
    }
   ],
   "source": [
    "#create dataframe that contains text and the polarity scores for each tweet\n",
    "\n",
    "sentiment = []    \n",
    "\n",
    "for text in corpus:\n",
    "    scores = sia.polarity_scores(text)\n",
    "    scores['text'] = text\n",
    "    sentiment.append(scores)\n",
    "\n",
    "main_sent_self = pd.DataFrame(sentiment)\n",
    "main_sent_self.head()"
   ]
  },
  {
   "cell_type": "code",
   "execution_count": 22,
   "id": "4cdb9983",
   "metadata": {},
   "outputs": [
    {
     "data": {
      "text/html": [
       "<div>\n",
       "<style scoped>\n",
       "    .dataframe tbody tr th:only-of-type {\n",
       "        vertical-align: middle;\n",
       "    }\n",
       "\n",
       "    .dataframe tbody tr th {\n",
       "        vertical-align: top;\n",
       "    }\n",
       "\n",
       "    .dataframe thead th {\n",
       "        text-align: right;\n",
       "    }\n",
       "</style>\n",
       "<table border=\"1\" class=\"dataframe\">\n",
       "  <thead>\n",
       "    <tr style=\"text-align: right;\">\n",
       "      <th></th>\n",
       "      <th>neg</th>\n",
       "      <th>neu</th>\n",
       "      <th>pos</th>\n",
       "      <th>compound</th>\n",
       "      <th>text</th>\n",
       "    </tr>\n",
       "  </thead>\n",
       "  <tbody>\n",
       "    <tr>\n",
       "      <th>519</th>\n",
       "      <td>0.0</td>\n",
       "      <td>0.000</td>\n",
       "      <td>1.000</td>\n",
       "      <td>0.4404</td>\n",
       "      <td>Thanks</td>\n",
       "    </tr>\n",
       "    <tr>\n",
       "      <th>1310</th>\n",
       "      <td>0.0</td>\n",
       "      <td>0.000</td>\n",
       "      <td>1.000</td>\n",
       "      <td>0.3182</td>\n",
       "      <td>I m curious</td>\n",
       "    </tr>\n",
       "    <tr>\n",
       "      <th>1066</th>\n",
       "      <td>0.0</td>\n",
       "      <td>0.169</td>\n",
       "      <td>0.831</td>\n",
       "      <td>0.5994</td>\n",
       "      <td>God Bless them t s t s</td>\n",
       "    </tr>\n",
       "    <tr>\n",
       "      <th>1674</th>\n",
       "      <td>0.0</td>\n",
       "      <td>0.247</td>\n",
       "      <td>0.753</td>\n",
       "      <td>0.7269</td>\n",
       "      <td>This is pretty funny k</td>\n",
       "    </tr>\n",
       "    <tr>\n",
       "      <th>336</th>\n",
       "      <td>0.0</td>\n",
       "      <td>0.286</td>\n",
       "      <td>0.714</td>\n",
       "      <td>0.3612</td>\n",
       "      <td>Thank you</td>\n",
       "    </tr>\n",
       "  </tbody>\n",
       "</table>\n",
       "</div>"
      ],
      "text/plain": [
       "      neg    neu    pos  compound                    text\n",
       "519   0.0  0.000  1.000    0.4404                  Thanks\n",
       "1310  0.0  0.000  1.000    0.3182             I m curious\n",
       "1066  0.0  0.169  0.831    0.5994  God Bless them t s t s\n",
       "1674  0.0  0.247  0.753    0.7269  This is pretty funny k\n",
       "336   0.0  0.286  0.714    0.3612               Thank you"
      ]
     },
     "execution_count": 22,
     "metadata": {},
     "output_type": "execute_result"
    }
   ],
   "source": [
    "# high positive sentiment scores \n",
    "main_sent_self.sort_values(by='pos',ascending=False).head()"
   ]
  },
  {
   "cell_type": "code",
   "execution_count": 23,
   "id": "bf955a1f",
   "metadata": {},
   "outputs": [
    {
     "data": {
      "text/html": [
       "<div>\n",
       "<style scoped>\n",
       "    .dataframe tbody tr th:only-of-type {\n",
       "        vertical-align: middle;\n",
       "    }\n",
       "\n",
       "    .dataframe tbody tr th {\n",
       "        vertical-align: top;\n",
       "    }\n",
       "\n",
       "    .dataframe thead th {\n",
       "        text-align: right;\n",
       "    }\n",
       "</style>\n",
       "<table border=\"1\" class=\"dataframe\">\n",
       "  <thead>\n",
       "    <tr style=\"text-align: right;\">\n",
       "      <th></th>\n",
       "      <th>neg</th>\n",
       "      <th>neu</th>\n",
       "      <th>pos</th>\n",
       "      <th>compound</th>\n",
       "      <th>text</th>\n",
       "    </tr>\n",
       "  </thead>\n",
       "  <tbody>\n",
       "    <tr>\n",
       "      <th>451</th>\n",
       "      <td>0.0</td>\n",
       "      <td>1.0</td>\n",
       "      <td>0.0</td>\n",
       "      <td>0.0</td>\n",
       "      <td>I don t get it</td>\n",
       "    </tr>\n",
       "    <tr>\n",
       "      <th>1196</th>\n",
       "      <td>0.0</td>\n",
       "      <td>1.0</td>\n",
       "      <td>0.0</td>\n",
       "      <td>0.0</td>\n",
       "      <td>Then I figured out because money laundering YAWN</td>\n",
       "    </tr>\n",
       "    <tr>\n",
       "      <th>1194</th>\n",
       "      <td>0.0</td>\n",
       "      <td>1.0</td>\n",
       "      <td>0.0</td>\n",
       "      <td>0.0</td>\n",
       "      <td>how to reverse it</td>\n",
       "    </tr>\n",
       "    <tr>\n",
       "      <th>1629</th>\n",
       "      <td>0.0</td>\n",
       "      <td>0.0</td>\n",
       "      <td>0.0</td>\n",
       "      <td>0.0</td>\n",
       "      <td></td>\n",
       "    </tr>\n",
       "    <tr>\n",
       "      <th>694</th>\n",
       "      <td>0.0</td>\n",
       "      <td>1.0</td>\n",
       "      <td>0.0</td>\n",
       "      <td>0.0</td>\n",
       "      <td>Frankly I m starting to come to that conclusion</td>\n",
       "    </tr>\n",
       "  </tbody>\n",
       "</table>\n",
       "</div>"
      ],
      "text/plain": [
       "      neg  neu  pos  compound  \\\n",
       "451   0.0  1.0  0.0       0.0   \n",
       "1196  0.0  1.0  0.0       0.0   \n",
       "1194  0.0  1.0  0.0       0.0   \n",
       "1629  0.0  0.0  0.0       0.0   \n",
       "694   0.0  1.0  0.0       0.0   \n",
       "\n",
       "                                                  text  \n",
       "451                                     I don t get it  \n",
       "1196  Then I figured out because money laundering YAWN  \n",
       "1194                                 how to reverse it  \n",
       "1629                                                    \n",
       "694    Frankly I m starting to come to that conclusion  "
      ]
     },
     "execution_count": 23,
     "metadata": {},
     "output_type": "execute_result"
    }
   ],
   "source": [
    "# lower positivity score \n",
    "main_sent_self.sort_values(by='pos',ascending=True).head()"
   ]
  },
  {
   "cell_type": "markdown",
   "id": "e1db079c",
   "metadata": {},
   "source": [
    "For the next stage in the process please move to the EDA notebook. "
   ]
  }
 ],
 "metadata": {
  "kernelspec": {
   "display_name": "Python 3",
   "language": "python",
   "name": "python3"
  },
  "language_info": {
   "codemirror_mode": {
    "name": "ipython",
    "version": 3
   },
   "file_extension": ".py",
   "mimetype": "text/x-python",
   "name": "python",
   "nbconvert_exporter": "python",
   "pygments_lexer": "ipython3",
   "version": "3.8.8"
  }
 },
 "nbformat": 4,
 "nbformat_minor": 5
}
