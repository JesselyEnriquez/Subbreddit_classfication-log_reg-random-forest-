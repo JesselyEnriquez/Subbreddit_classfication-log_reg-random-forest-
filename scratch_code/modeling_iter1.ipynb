{
 "cells": [
  {
   "cell_type": "code",
   "execution_count": 148,
   "metadata": {},
   "outputs": [],
   "source": [
    "import pandas as pd\n",
    "from sklearn.linear_model import LogisticRegression\n",
    "from sklearn.model_selection import train_test_split, GridSearchCV\n",
    "from sklearn.pipeline import Pipeline\n",
    "from sklearn.metrics import confusion_matrix, plot_confusion_matrix\n",
    "from sklearn.feature_extraction.text import CountVectorizer\n",
    "\n",
    "\n",
    "from sklearn.feature_extraction import text # to create custom stop words\n",
    "from sklearn.preprocessing import FunctionTransformer # makes functions into a inputable parameter in a pipeline! \n",
    "\n",
    "# helper functions for nlp eda counts\n",
    "from nlp_helper_functions import punctuation_cntr, Lcase_counter, Ucase_counter"
   ]
  },
  {
   "cell_type": "code",
   "execution_count": 34,
   "metadata": {},
   "outputs": [
    {
     "data": {
      "text/html": [
       "<div>\n",
       "<style scoped>\n",
       "    .dataframe tbody tr th:only-of-type {\n",
       "        vertical-align: middle;\n",
       "    }\n",
       "\n",
       "    .dataframe tbody tr th {\n",
       "        vertical-align: top;\n",
       "    }\n",
       "\n",
       "    .dataframe thead th {\n",
       "        text-align: right;\n",
       "    }\n",
       "</style>\n",
       "<table border=\"1\" class=\"dataframe\">\n",
       "  <thead>\n",
       "    <tr style=\"text-align: right;\">\n",
       "      <th></th>\n",
       "      <th>selftext</th>\n",
       "      <th>title</th>\n",
       "      <th>target</th>\n",
       "    </tr>\n",
       "  </thead>\n",
       "  <tbody>\n",
       "    <tr>\n",
       "      <th>0</th>\n",
       "      <td>There are a lot of chauvinists in the U S who ...</td>\n",
       "      <td>Is Kamala Harris more at risk of assassination...</td>\n",
       "      <td>0</td>\n",
       "    </tr>\n",
       "    <tr>\n",
       "      <th>1</th>\n",
       "      <td>Let me explain The name of your movement shoul...</td>\n",
       "      <td>A push labeled Let mothers hold their babies</td>\n",
       "      <td>0</td>\n",
       "    </tr>\n",
       "    <tr>\n",
       "      <th>2</th>\n",
       "      <td>I have read about some horrific pit bull attac...</td>\n",
       "      <td>Why don t we see politicians supporting pit bu...</td>\n",
       "      <td>0</td>\n",
       "    </tr>\n",
       "    <tr>\n",
       "      <th>3</th>\n",
       "      <td>Some international observers have argued that ...</td>\n",
       "      <td>What threat does EU expansion pose towards Russia</td>\n",
       "      <td>0</td>\n",
       "    </tr>\n",
       "    <tr>\n",
       "      <th>4</th>\n",
       "      <td>Every definition of the term implies cheating ...</td>\n",
       "      <td>Why is gerrymandering legal</td>\n",
       "      <td>0</td>\n",
       "    </tr>\n",
       "  </tbody>\n",
       "</table>\n",
       "</div>"
      ],
      "text/plain": [
       "                                            selftext  \\\n",
       "0  There are a lot of chauvinists in the U S who ...   \n",
       "1  Let me explain The name of your movement shoul...   \n",
       "2  I have read about some horrific pit bull attac...   \n",
       "3  Some international observers have argued that ...   \n",
       "4  Every definition of the term implies cheating ...   \n",
       "\n",
       "                                               title  target  \n",
       "0  Is Kamala Harris more at risk of assassination...       0  \n",
       "1       A push labeled Let mothers hold their babies       0  \n",
       "2  Why don t we see politicians supporting pit bu...       0  \n",
       "3  What threat does EU expansion pose towards Russia       0  \n",
       "4                        Why is gerrymandering legal       0  "
      ]
     },
     "execution_count": 34,
     "metadata": {},
     "output_type": "execute_result"
    }
   ],
   "source": [
    "df_main = pd.read_csv('../data/cleaned_main.csv')\n",
    "df_main.head()"
   ]
  },
  {
   "cell_type": "code",
   "execution_count": 35,
   "metadata": {},
   "outputs": [
    {
     "name": "stdout",
     "output_type": "stream",
     "text": [
      "19\n",
      "0\n"
     ]
    }
   ],
   "source": [
    "print(df_main['selftext'].isnull().sum())\n",
    "df_main.dropna(inplace=True)\n",
    "print(df_main['selftext'].isnull().sum())"
   ]
  },
  {
   "cell_type": "code",
   "execution_count": 36,
   "metadata": {},
   "outputs": [],
   "source": [
    "# creating X and y for model \n",
    "X = df_main['selftext']\n",
    "y = df_main['target']"
   ]
  },
  {
   "cell_type": "code",
   "execution_count": 37,
   "metadata": {},
   "outputs": [
    {
     "data": {
      "text/plain": [
       "0    0.503281\n",
       "1    0.496719\n",
       "Name: target, dtype: float64"
      ]
     },
     "execution_count": 37,
     "metadata": {},
     "output_type": "execute_result"
    }
   ],
   "source": [
    "# baseline accuracy (what we want to perform better)\n",
    "y.value_counts(normalize=True)"
   ]
  },
  {
   "cell_type": "markdown",
   "metadata": {},
   "source": [
    "Because of the careful cleaning we have a evenly split dataset that we want to perform better than just having a 50% chance of guessing whether a post is from the Conspiracy subreddit versus AskPolitics subreddit."
   ]
  },
  {
   "cell_type": "code",
   "execution_count": 38,
   "metadata": {},
   "outputs": [],
   "source": [
    "# splitting data assuming this dataset represents generally all posts on each subreddit\n",
    "X_train, X_test, y_train, y_test = train_test_split(X,y,random_state=42,stratify=y)"
   ]
  },
  {
   "cell_type": "code",
   "execution_count": 42,
   "metadata": {},
   "outputs": [
    {
     "name": "stdout",
     "output_type": "stream",
     "text": [
      "best score 0.7791245791245792\n",
      "best params {'cvec__binary': True, 'cvec__ngram_range': (1, 1), 'cvec__stop_words': 'english', 'model__C': 0.3}\n",
      "train score 0.9858585858585859\n",
      "test score 0.8125\n"
     ]
    },
    {
     "data": {
      "image/png": "[encoded data removed]",
      "text/plain": [
       "<Figure size 432x288 with 2 Axes>"
      ]
     },
     "metadata": {
      "needs_background": "light"
     },
     "output_type": "display_data"
    }
   ],
   "source": [
    "pipe = Pipeline([\n",
    "    ('cvec',CountVectorizer()),\n",
    "    ('model', LogisticRegression())    \n",
    "])\n",
    "hyper_params = {\n",
    "    'cvec__stop_words': [None, 'english'],\n",
    "    'cvec__ngram_range':[(1,1), (1,3)],\n",
    "    'cvec__binary': [False, True],\n",
    "    'model__C' : [0.1, 0.2, 0.3, 0.4] # chose 1 the first time and then can maybe try higher magnitude values\n",
    "}\n",
    "gs2 = GridSearchCV(pipe, hyper_params,cv=3)\n",
    "gs2.fit(X_train,y_train)\n",
    "print('best score',gs2.best_score_) # best cross validated score (defualt logistic regression - accuracy)\n",
    "print('best params',gs2.best_params_)\n",
    "print('train score',gs2.score(X_train,y_train))\n",
    "print('test score',gs2.score(X_test,y_test))\n",
    "plot_confusion_matrix(gs2,X_test,y_test,cmap='Blues',display_labels=['polictial','conspiracy']); "
   ]
  },
  {
   "cell_type": "code",
   "execution_count": null,
   "metadata": {},
   "outputs": [
    {
     "name": "stdout",
     "output_type": "stream",
     "text": [
      "best score 0.7791245791245792\n",
      "best params {'cvec__binary': True, 'cvec__ngram_range': (1, 1), 'cvec__stop_words': 'english', 'model__C': 0.3}\n",
      "train score 0.9858585858585859\n",
      "test score 0.8125\n"
     ]
    },
    {
     "data": {
      "image/png": "[encoded data removed]",
      "text/plain": [
       "<Figure size 432x288 with 2 Axes>"
      ]
     },
     "metadata": {
      "needs_background": "light"
     },
     "output_type": "display_data"
    }
   ],
   "source": [
    "#(1,3) - potential overfitting, time consuming, more features \n",
    "hyper_params = {\n",
    "    'cvec__stop_words': [None, 'english'],\n",
    "    'cvec__ngram_range':[(1,1), (1,3)],\n",
    "    'cvec__binary': [False, True],\n",
    "    'model__C' : [0.1, 0.2, 0.3, 0.4] # chose 1 the first time and then can maybe try higher magnitude values\n",
    "}\n",
    "gs2 = GridSearchCV(pipe, hyper_params,cv=3)\n",
    "gs2.fit(X_train,y_train)\n",
    "print('best score',gs2.best_score_) # best cross validated score (defualt logistic regression - accuracy)\n",
    "print('best params',gs2.best_params_)\n",
    "print('train score',gs2.score(X_train,y_train))\n",
    "print('test score',gs2.score(X_test,y_test))\n",
    "plot_confusion_matrix(gs2,X_test,y_test,cmap='Blues',display_labels=['polictial','conspiracy']); "
   ]
  },
  {
   "cell_type": "code",
   "execution_count": null,
   "metadata": {},
   "outputs": [
    {
     "name": "stdout",
     "output_type": "stream",
     "text": [
      "best score 0.7811447811447811\n",
      "best params {'cvec__binary': True, 'cvec__ngram_range': (1, 1), 'cvec__stop_words': 'english', 'model__C': 0.5}\n",
      "train score 0.98989898989899\n",
      "test score 0.8104838709677419\n"
     ]
    },
    {
     "data": {
      "image/png": "[encoded data removed]",
      "text/plain": [
       "<Figure size 432x288 with 2 Axes>"
      ]
     },
     "metadata": {
      "needs_background": "light"
     },
     "output_type": "display_data"
    }
   ],
   "source": [
    "#(1,3) - potential overfitting, time consuming, more features \n",
    "hyper_params = {\n",
    "    'cvec__stop_words': [None, 'english'],\n",
    "    'cvec__ngram_range':[(1,1)],\n",
    "    'cvec__binary': [False, True],\n",
    "    'model__C' : [ 0.3, 0.4,0.5,0.6] # chose 1 the first time and then can maybe try higher magnitude values\n",
    "}\n",
    "gs3 = GridSearchCV(pipe, hyper_params,cv=3)\n",
    "gs3.fit(X_train,y_train)\n",
    "print('best score',gs3.best_score_) # best cross validated score (defualt logistic regression - accuracy)\n",
    "print('best params',gs3.best_params_)\n",
    "print('train score',gs3.score(X_train,y_train))\n",
    "print('test score',gs3.score(X_test,y_test))\n",
    "plot_confusion_matrix(gs3,X_test,y_test,cmap='Blues',display_labels=['polictial','conspiracy']); "
   ]
  },
  {
   "cell_type": "code",
   "execution_count": 40,
   "metadata": {},
   "outputs": [
    {
     "name": "stdout",
     "output_type": "stream",
     "text": [
      "0.7750841750841752\n",
      "{'cvec__binary': True, 'cvec__ngram_range': (1, 1), 'cvec__stop_words': None, 'model__C': 0.1}\n",
      "train score 0.960942760942761\n",
      "test score 0.7943548387096774\n"
     ]
    },
    {
     "data": {
      "image/png": "[encoded data removed]",
      "text/plain": [
       "<Figure size 432x288 with 2 Axes>"
      ]
     },
     "metadata": {
      "needs_background": "light"
     },
     "output_type": "display_data"
    }
   ],
   "source": [
    "pipe = Pipeline([\n",
    "    ('cvec',CountVectorizer()),\n",
    "    ('model', LogisticRegression(max_iter=1_000))    \n",
    "])\n",
    "# using default solver = lbfgs rest need to be altered b/c of convergence issues\n",
    "hyper_params = {\n",
    "    'cvec__stop_words': [None, 'english'],\n",
    "    'cvec__ngram_range':[(1,1), (1,3), (1,3)],\n",
    "    'cvec__binary': [False, True],\n",
    "    'model__C' : [1.0, 0.1, 0.001, 0.0001] # chose 1 the first time and then can maybe try higher magnitude values\n",
    "}\n",
    "gs = GridSearchCV(pipe, hyper_params,cv=3)\n",
    "gs.fit(X_train,y_train)\n",
    "print(gs.best_score_) # best cross validated score (defualt logistic regression - accuracy)\n",
    "print(gs.best_params_)\n",
    "print('train score',gs.score(X_train,y_train))\n",
    "print('test score',gs.score(X_test,y_test))\n",
    "plot_confusion_matrix(gs,X_test,y_test,cmap='Blues',display_labels=['polictial','conspiracy']); "
   ]
  },
  {
   "cell_type": "code",
   "execution_count": 10,
   "metadata": {},
   "outputs": [
    {
     "name": "stdout",
     "output_type": "stream",
     "text": [
      "best score 0.7717171717171718\n",
      "best params {'cvec__binary': True, 'cvec__lowercase': False, 'cvec__max_df': 0.8, 'cvec__max_features': 2500, 'cvec__ngram_range': (1, 1), 'cvec__stop_words': None, 'model__C': 0.6}\n",
      "train score 0.9838383838383838\n",
      "test score 0.7923387096774194\n"
     ]
    },
    {
     "data": {
      "image/png": "[encoded data removed]",
      "text/plain": [
       "<Figure size 432x288 with 2 Axes>"
      ]
     },
     "metadata": {
      "needs_background": "light"
     },
     "output_type": "display_data"
    }
   ],
   "source": [
    "pipe1  = Pipeline([('cvec', CountVectorizer()),\n",
    "                ('model', LogisticRegression(solver='liblinear'))])\n",
    "# running with liblinear\n",
    "hyper_params = {\n",
    "    'cvec__stop_words': [None, 'english'], \n",
    "    'cvec__max_df':[0.8,0.7,0.65],\n",
    "    'cvec__max_features':[1500,2000,2500],\n",
    "    'cvec__lowercase':[True,False],\n",
    "    'cvec__ngram_range':[(1,1)],\n",
    "    'cvec__binary': [False, True],\n",
    "    'model__C' : [0.5,0.6,0.7] # chose 1 the first time and then can maybe try higher magnitude values\n",
    "}\n",
    "\n",
    "gs41 = GridSearchCV(pipe1, hyper_params,cv=3)\n",
    "gs41.fit(X_train,y_train)\n",
    "print('best score',gs41.best_score_) # best cross validated score (defualt logistic regression - accuracy)\n",
    "print('best params',gs41.best_params_)\n",
    "print('train score',gs41.score(X_train,y_train))\n",
    "print('test score',gs41.score(X_test,y_test))\n",
    "plot_confusion_matrix(gs41,X_test,y_test,cmap='Blues',display_labels=['polictial','conspiracy']);  \n"
   ]
  },
  {
   "cell_type": "markdown",
   "metadata": {},
   "source": [
    "--- \n",
    "Combining title + self text"
   ]
  },
  {
   "cell_type": "code",
   "execution_count": 23,
   "metadata": {},
   "outputs": [
    {
     "data": {
      "text/html": [
       "<div>\n",
       "<style scoped>\n",
       "    .dataframe tbody tr th:only-of-type {\n",
       "        vertical-align: middle;\n",
       "    }\n",
       "\n",
       "    .dataframe tbody tr th {\n",
       "        vertical-align: top;\n",
       "    }\n",
       "\n",
       "    .dataframe thead th {\n",
       "        text-align: right;\n",
       "    }\n",
       "</style>\n",
       "<table border=\"1\" class=\"dataframe\">\n",
       "  <thead>\n",
       "    <tr style=\"text-align: right;\">\n",
       "      <th></th>\n",
       "      <th>selftext</th>\n",
       "      <th>title</th>\n",
       "      <th>target</th>\n",
       "    </tr>\n",
       "  </thead>\n",
       "  <tbody>\n",
       "    <tr>\n",
       "      <th>0</th>\n",
       "      <td>There are a lot of chauvinists in the U S who ...</td>\n",
       "      <td>Is Kamala Harris more at risk of assassination...</td>\n",
       "      <td>0</td>\n",
       "    </tr>\n",
       "    <tr>\n",
       "      <th>1</th>\n",
       "      <td>Let me explain The name of your movement shoul...</td>\n",
       "      <td>A push labeled Let mothers hold their babies</td>\n",
       "      <td>0</td>\n",
       "    </tr>\n",
       "    <tr>\n",
       "      <th>2</th>\n",
       "      <td>I have read about some horrific pit bull attac...</td>\n",
       "      <td>Why don t we see politicians supporting pit bu...</td>\n",
       "      <td>0</td>\n",
       "    </tr>\n",
       "    <tr>\n",
       "      <th>3</th>\n",
       "      <td>Some international observers have argued that ...</td>\n",
       "      <td>What threat does EU expansion pose towards Russia</td>\n",
       "      <td>0</td>\n",
       "    </tr>\n",
       "    <tr>\n",
       "      <th>4</th>\n",
       "      <td>Every definition of the term implies cheating ...</td>\n",
       "      <td>Why is gerrymandering legal</td>\n",
       "      <td>0</td>\n",
       "    </tr>\n",
       "  </tbody>\n",
       "</table>\n",
       "</div>"
      ],
      "text/plain": [
       "                                            selftext  \\\n",
       "0  There are a lot of chauvinists in the U S who ...   \n",
       "1  Let me explain The name of your movement shoul...   \n",
       "2  I have read about some horrific pit bull attac...   \n",
       "3  Some international observers have argued that ...   \n",
       "4  Every definition of the term implies cheating ...   \n",
       "\n",
       "                                               title  target  \n",
       "0  Is Kamala Harris more at risk of assassination...       0  \n",
       "1       A push labeled Let mothers hold their babies       0  \n",
       "2  Why don t we see politicians supporting pit bu...       0  \n",
       "3  What threat does EU expansion pose towards Russia       0  \n",
       "4                        Why is gerrymandering legal       0  "
      ]
     },
     "execution_count": 23,
     "metadata": {},
     "output_type": "execute_result"
    }
   ],
   "source": [
    "df_main.head()"
   ]
  },
  {
   "cell_type": "code",
   "execution_count": 122,
   "metadata": {},
   "outputs": [
    {
     "name": "stdout",
     "output_type": "stream",
     "text": [
      "(1981,)\n",
      "best score 0.8417508417508417\n",
      "best params {'cvec__binary': True, 'cvec__lowercase': False, 'cvec__max_df': 0.8, 'cvec__max_features': 2500, 'cvec__ngram_range': (1, 1), 'cvec__stop_words': 'english', 'model__C': 0.5}\n",
      "train score 0.9885521885521885\n",
      "test score 0.8669354838709677\n"
     ]
    },
    {
     "data": {
      "image/png": "[encoded data removed]",
      "text/plain": [
       "<Figure size 432x288 with 2 Axes>"
      ]
     },
     "metadata": {
      "needs_background": "light"
     },
     "output_type": "display_data"
    }
   ],
   "source": [
    "X3 =  df_main['title'] + ' ' +df_main['selftext'] # eliminates redundancy\n",
    "print(X3.shape)\n",
    "y1 = df_main['target']\n",
    "X_vtrain_all, X_vtest_all, y_vtrain_all, y_vtest_all = train_test_split(X3,y1,random_state=42 ,stratify=y1 )\n",
    "\n",
    "pipe1  = Pipeline([('cvec', CountVectorizer()),\n",
    "                ('model', LogisticRegression(max_iter=10_000))])\n",
    "# running with liblinear\n",
    "hyper_params = {\n",
    "    'cvec__stop_words': [None, 'english'], \n",
    "    'cvec__max_df':[0.8,0.7,0.65],\n",
    "    'cvec__max_features':[1500,2000,2500],\n",
    "    'cvec__lowercase':[True,False],\n",
    "    'cvec__ngram_range':[(1,1)],\n",
    "    'cvec__binary': [False, True],\n",
    "    'model__C' : [0.5,0.6,0.7] # chose 1 the first time and then can maybe try higher magnitude values\n",
    "}\n",
    "\n",
    "gs_all1 = GridSearchCV(pipe1, hyper_params,cv=3)\n",
    "gs_all1.fit(X_vtrain_all,y_vtrain_all)\n",
    "\n",
    "print('best score',gs_all1.best_score_) # best cross validated score (defualt logistic regression - accuracy)\n",
    "print('best params',gs_all1.best_params_)\n",
    "print('train score',gs_all1.score(X_vtrain_all,y_vtrain_all))\n",
    "print('test score',gs_all1.score(X_vtest_all,y_vtest_all))\n",
    "\n",
    "\n",
    "plot_confusion_matrix(gs_all1,X_vtest_all,y_vtest_all,cmap='Blues',display_labels=['polictial','conspiracy']);"
   ]
  },
  {
   "cell_type": "code",
   "execution_count": 123,
   "metadata": {},
   "outputs": [
    {
     "name": "stdout",
     "output_type": "stream",
     "text": [
      "(1981,)\n",
      "best score 0.8451178451178452\n",
      "best params {'cvec__binary': True, 'cvec__lowercase': False, 'cvec__max_df': 0.9, 'cvec__max_features': 3000, 'cvec__ngram_range': (1, 1), 'cvec__stop_words': 'english', 'model__C': 0.4}\n",
      "train score 0.9858585858585859\n",
      "test score 0.8729838709677419\n"
     ]
    },
    {
     "data": {
      "image/png": "[encoded data removed]",
      "text/plain": [
       "<Figure size 432x288 with 2 Axes>"
      ]
     },
     "metadata": {
      "needs_background": "light"
     },
     "output_type": "display_data"
    }
   ],
   "source": [
    "X3 =  df_main['title'] + ' ' +df_main['selftext'] # eliminates redundancy\n",
    "print(X3.shape)\n",
    "y1 = df_main['target']\n",
    "X_vtrain_all, X_vtest_all, y_vtrain_all, y_vtest_all = train_test_split(X3,y1,random_state=42 ,stratify=y1 )\n",
    "\n",
    "pipe1  = Pipeline([('cvec', CountVectorizer()),\n",
    "                ('model', LogisticRegression(max_iter=10_000))])\n",
    "# running with liblinear\n",
    "hyper_params = {\n",
    "    'cvec__stop_words': [None, 'english'], \n",
    "    'cvec__max_df':[0.9,0.8,0.85,],\n",
    "    'cvec__max_features':[2000,2500,3000],\n",
    "    'cvec__lowercase':[True,False],\n",
    "    'cvec__ngram_range':[(1,1),(1,2),(1,3)],\n",
    "    'cvec__binary': [False, True],\n",
    "    'model__C' : [0.3,0.4,0.5,0.6] # chose 1 the first time and then can maybe try higher magnitude values\n",
    "}\n",
    "\n",
    "gs_all2 = GridSearchCV(pipe1, hyper_params,cv=3)\n",
    "gs_all2.fit(X_vtrain_all,y_vtrain_all)\n",
    "\n",
    "print('best score',gs_all2.best_score_) # best cross validated score (defualt logistic regression - accuracy)\n",
    "print('best params',gs_all2.best_params_)\n",
    "print('train score',gs_all2.score(X_vtrain_all,y_vtrain_all))\n",
    "print('test score',gs_all2.score(X_vtest_all,y_vtest_all))\n",
    "\n",
    "\n",
    "plot_confusion_matrix(gs_all2,X_vtest_all,y_vtest_all,cmap='Blues',display_labels=['polictial','conspiracy']);"
   ]
  },
  {
   "cell_type": "code",
   "execution_count": 127,
   "metadata": {},
   "outputs": [
    {
     "name": "stdout",
     "output_type": "stream",
     "text": [
      "(1485, 3000)\n"
     ]
    },
    {
     "data": {
      "image/png": "[encoded data removed]",
      "text/plain": [
       "<Figure size 432x288 with 1 Axes>"
      ]
     },
     "metadata": {
      "needs_background": "light"
     },
     "output_type": "display_data"
    }
   ],
   "source": [
    "# looking at top words in best params for from gridsearch above\n",
    "\n",
    "# instantiate a vectorizer with parameters from grid search above\n",
    "cvec3 = CountVectorizer(stop_words='english', binary=True,lowercase =False,\n",
    "                        max_df= 0.9, max_features= 3000,ngram_range=(1,1) ) \n",
    "\n",
    "# fit and transform on self text\n",
    "Xcvec3 = cvec3.fit_transform(X_vtrain_all,y_vtrain_all)\n",
    "\n",
    "# Convert X_train into a DataFrame.\n",
    "Xcv3_df = pd.DataFrame(Xcvec3.todense(),columns=cvec3.get_feature_names())\n",
    "Xcv3_df.sum().sort_values(ascending = False).head(25).plot(kind = 'barh');"
   ]
  },
  {
   "cell_type": "code",
   "execution_count": 140,
   "metadata": {},
   "outputs": [
    {
     "name": "stdout",
     "output_type": "stream",
     "text": [
      "<class 'list'>\n",
      "['like', 'people', 'just', 'The', 'What', 'know', 'think', 'don', 'It', 'Why', 'If', 'Is', 'So', 'right', 'US', 'world', 'time', 'How', 'does', 'want', 'make', 'This', 'But', 'government', 'Russia']\n"
     ]
    }
   ],
   "source": [
    "series=Xcv3_df.sum().sort_values(ascending = False).head(25)\n",
    "top25=list(series.index)\n",
    "print(type(top25))\n",
    "print(top25)"
   ]
  },
  {
   "cell_type": "code",
   "execution_count": 141,
   "metadata": {},
   "outputs": [],
   "source": [
    "# create a custom stop words based on these above \n",
    "stop_words = text.ENGLISH_STOP_WORDS.union(top25)"
   ]
  },
  {
   "cell_type": "code",
   "execution_count": 143,
   "metadata": {},
   "outputs": [
    {
     "name": "stdout",
     "output_type": "stream",
     "text": [
      "best score 0.8451178451178452\n",
      "best params {'cvec__binary': True, 'cvec__lowercase': False, 'cvec__max_df': 0.75, 'cvec__max_features': 3000, 'cvec__ngram_range': (1, 1), 'cvec__stop_words': 'english', 'model__C': 0.4}\n",
      "train score 0.9858585858585859\n",
      "test score 0.8729838709677419\n"
     ]
    },
    {
     "data": {
      "image/png": "[encoded data removed]",
      "text/plain": [
       "<Figure size 432x288 with 2 Axes>"
      ]
     },
     "metadata": {
      "needs_background": "light"
     },
     "output_type": "display_data"
    }
   ],
   "source": [
    "# running with same inital pipe for Logistic Reg model (pipe1_)\n",
    "hyper_params = {\n",
    "    'cvec__stop_words': [stop_words, 'english'],  # introducing custom stop words\n",
    "    'cvec__max_df':[0.75,0.8], # 0.8 for prev iterations\n",
    "    'cvec__max_features':[2500,2750,3000], # best features were b/w 2500-3000 \n",
    "    'cvec__lowercase':[False], # best params were False for previous 2 iterations\n",
    "    'cvec__ngram_range':[(1,1),(1,2)], # best params were (1,1) for previous times\n",
    "    'cvec__binary': [True], # best params were True for previous 2 iterations\n",
    "    'model__C' : [0.4,0.45,0.5] # best params were 0.4-0.5 both previous times\n",
    "}\n",
    "\n",
    "gs_all3 = GridSearchCV(pipe1, hyper_params,cv=3)\n",
    "gs_all3.fit(X_vtrain_all,y_vtrain_all)\n",
    "\n",
    "print('best score',gs_all3.best_score_) # best cross validated score (defualt logistic regression - accuracy)\n",
    "print('best params',gs_all3.best_params_)\n",
    "print('train score',gs_all3.score(X_vtrain_all,y_vtrain_all))\n",
    "print('test score',gs_all3.score(X_vtest_all,y_vtest_all))\n",
    "\n",
    "\n",
    "plot_confusion_matrix(gs_all3,X_vtest_all,y_vtest_all,cmap='Blues',display_labels=['polictial','conspiracy']);"
   ]
  },
  {
   "cell_type": "code",
   "execution_count": 147,
   "metadata": {},
   "outputs": [
    {
     "name": "stdout",
     "output_type": "stream",
     "text": [
      "<class 'list'>\n",
      "['going', 've', 'They', 'years', 'way', 'And', 'really', 'war', 'Ukraine', 'say', 'good', 'did', 'actually', 'Biden', 'things', 'country', 'political', 'In', 'new', 'believe', 'amp', 'state', 'said', 'lot', 'thing']\n"
     ]
    },
    {
     "data": {
      "image/png": "[encoded data removed]",
      "text/plain": [
       "<Figure size 432x288 with 1 Axes>"
      ]
     },
     "metadata": {
      "needs_background": "light"
     },
     "output_type": "display_data"
    }
   ],
   "source": [
    "# looking at top words in best params for from gridsearch above\n",
    "\n",
    "# instantiate a vectorizer with parameters from grid search above\n",
    "cvec = CountVectorizer(stop_words=stop_words, binary=True,lowercase =False,\n",
    "                        max_df= 0.75, max_features= 3000,ngram_range=(1,1) ) \n",
    "\n",
    "# fit and transform on self text\n",
    "Xcvec = cvec.fit_transform(X_vtrain_all,y_vtrain_all)\n",
    "\n",
    "# Convert X_train into a DataFrame.\n",
    "Xcv3_df = pd.DataFrame(Xcvec.todense(),columns=cvec.get_feature_names())\n",
    "Xcv3_df.sum().sort_values(ascending = False).head(25).plot(kind = 'barh');\n",
    "series_2=Xcv3_df.sum().sort_values(ascending = False).head(25)\n",
    "top25_2=list(series_2.index)\n",
    "print(type(top25_2))\n",
    "print(top25_2)"
   ]
  },
  {
   "cell_type": "code",
   "execution_count": null,
   "metadata": {},
   "outputs": [],
   "source": [
    "# gs_all1\n",
    "'cvec__binary': True, 'cvec__lowercase': False, 'cvec__max_df': 0.9, 'cvec__max_features': 3000, \n",
    "'cvec__ngram_range': (1, 1), 'cvec__stop_words': 'english', 'model__C': 0.4\n",
    "\n",
    "# gs_all2 \n",
    "'cvec__binary': True, 'cvec__lowercase': False, 'cvec__max_df': 0.8, 'cvec__max_features': 2500, \n",
    "'cvec__ngram_range': (1, 1), 'cvec__stop_words': 'english', 'model__C': 0.5\n",
    "\n",
    "# gs_all3\n",
    "'cvec__binary': True, 'cvec__lowercase': False, 'cvec__max_df': 0.75, 'cvec__max_features': 3000, \n",
    "'cvec__ngram_range': (1, 1), 'cvec__stop_words': 'english', 'model__C': 0.4"
   ]
  },
  {
   "cell_type": "markdown",
   "metadata": {},
   "source": [
    "---\n",
    "creating text and punctuation count as features for seltftext and title (based on last vectorization parameters)"
   ]
  },
  {
   "cell_type": "code",
   "execution_count": 217,
   "metadata": {},
   "outputs": [
    {
     "name": "stdout",
     "output_type": "stream",
     "text": [
      "train whole shape:  (1485, 3005) (1485,)\n",
      "test whole shape:  (496, 3005) (496,)\n"
     ]
    },
    {
     "data": {
      "text/html": [
       "<div>\n",
       "<style scoped>\n",
       "    .dataframe tbody tr th:only-of-type {\n",
       "        vertical-align: middle;\n",
       "    }\n",
       "\n",
       "    .dataframe tbody tr th {\n",
       "        vertical-align: top;\n",
       "    }\n",
       "\n",
       "    .dataframe thead th {\n",
       "        text-align: right;\n",
       "    }\n",
       "</style>\n",
       "<table border=\"1\" class=\"dataframe\">\n",
       "  <thead>\n",
       "    <tr style=\"text-align: right;\">\n",
       "      <th></th>\n",
       "      <th>AI</th>\n",
       "      <th>ALL</th>\n",
       "      <th>AM</th>\n",
       "      <th>AND</th>\n",
       "      <th>AZ</th>\n",
       "      <th>About</th>\n",
       "      <th>According</th>\n",
       "      <th>Act</th>\n",
       "      <th>Additionally</th>\n",
       "      <th>Administration</th>\n",
       "      <th>...</th>\n",
       "      <th>yesterday</th>\n",
       "      <th>young</th>\n",
       "      <th>younger</th>\n",
       "      <th>zero</th>\n",
       "      <th>zombies</th>\n",
       "      <th>index</th>\n",
       "      <th>target</th>\n",
       "      <th>punc_cnt</th>\n",
       "      <th>Lcase_counter</th>\n",
       "      <th>Ucase_counter</th>\n",
       "    </tr>\n",
       "  </thead>\n",
       "  <tbody>\n",
       "    <tr>\n",
       "      <th>0</th>\n",
       "      <td>0</td>\n",
       "      <td>0</td>\n",
       "      <td>0</td>\n",
       "      <td>0</td>\n",
       "      <td>0</td>\n",
       "      <td>0</td>\n",
       "      <td>0</td>\n",
       "      <td>0</td>\n",
       "      <td>0</td>\n",
       "      <td>0</td>\n",
       "      <td>...</td>\n",
       "      <td>0</td>\n",
       "      <td>0</td>\n",
       "      <td>0</td>\n",
       "      <td>0</td>\n",
       "      <td>0</td>\n",
       "      <td>1178</td>\n",
       "      <td>1</td>\n",
       "      <td>16</td>\n",
       "      <td>66</td>\n",
       "      <td>6</td>\n",
       "    </tr>\n",
       "    <tr>\n",
       "      <th>1</th>\n",
       "      <td>0</td>\n",
       "      <td>0</td>\n",
       "      <td>0</td>\n",
       "      <td>0</td>\n",
       "      <td>0</td>\n",
       "      <td>0</td>\n",
       "      <td>0</td>\n",
       "      <td>0</td>\n",
       "      <td>0</td>\n",
       "      <td>0</td>\n",
       "      <td>...</td>\n",
       "      <td>0</td>\n",
       "      <td>0</td>\n",
       "      <td>0</td>\n",
       "      <td>0</td>\n",
       "      <td>0</td>\n",
       "      <td>576</td>\n",
       "      <td>0</td>\n",
       "      <td>124</td>\n",
       "      <td>503</td>\n",
       "      <td>15</td>\n",
       "    </tr>\n",
       "  </tbody>\n",
       "</table>\n",
       "<p>2 rows × 3005 columns</p>\n",
       "</div>"
      ],
      "text/plain": [
       "   AI  ALL  AM  AND  AZ  About  According  Act  Additionally  Administration  \\\n",
       "0   0    0   0    0   0      0          0    0             0               0   \n",
       "1   0    0   0    0   0      0          0    0             0               0   \n",
       "\n",
       "   ...  yesterday  young  younger  zero  zombies  index  target  punc_cnt  \\\n",
       "0  ...          0      0        0     0        0   1178       1        16   \n",
       "1  ...          0      0        0     0        0    576       0       124   \n",
       "\n",
       "   Lcase_counter  Ucase_counter  \n",
       "0             66              6  \n",
       "1            503             15  \n",
       "\n",
       "[2 rows x 3005 columns]"
      ]
     },
     "execution_count": 217,
     "metadata": {},
     "output_type": "execute_result"
    }
   ],
   "source": [
    "X3_all = df_main[['selftext','title','target']].copy()\n",
    "y1 = df_main['target']\n",
    "\n",
    "X3_vtrain_all, X3_vtest_all, y3_train, y3_test = train_test_split(X3_all,y1,random_state=42 ,stratify=y_all )\n",
    "# print('here1')\n",
    "# print(X3_vtrain_all.shape, y3_train.shape )\n",
    "# print(Xcv3_train.shape, y3_train.shape )\n",
    "# print('training above should match')\n",
    "# print( X3_vtest_all.shape, y3_test.shape)\n",
    "# print( Xcv3_test.shape, y3_test.shape)\n",
    "# print('testing above should match')\n",
    "\n",
    "X3_train =  X3_vtrain_all['title'] + ' ' +X3_vtrain_all['selftext'] # eliminates redundancy\n",
    "X3_test =  X3_vtest_all['title'] + ' ' +X3_vtest_all['selftext'] # eliminates redundancy\n",
    "\n",
    "\n",
    "# instantiate a vectorizer with parameters from grid search above\n",
    "cvec = CountVectorizer(stop_words='english', # eliminating the basic stop words\n",
    "                       binary=True,\n",
    "                       lowercase =False, # we want to pay attention to case sensitivity later\n",
    "                        max_df= 0.75, # this is a form of creating a customized stop words list \n",
    "                        max_features= 3000,ngram_range=(1,1) ) \n",
    "\n",
    "# fit and transform on self text\n",
    "Xcvec_train = cvec.fit_transform(X3_train)\n",
    "Xcvec_test = cvec.transform(X3_test)\n",
    "\n",
    "# Convert X_train and X_test into a DataFrame.\n",
    "Xcv3_train = pd.DataFrame(Xcvec_train.todense(),columns=cvec.get_feature_names())\n",
    "Xcv3_test = pd.DataFrame(Xcvec_test.todense(),columns=cvec.get_feature_names())\n",
    "\n",
    "# creating copies to manipulate\n",
    "X3_vtrain_all=X3_vtrain_all.copy()\n",
    "X3_vtest_all=X3_vtest_all.copy()\n",
    "# print('here2')\n",
    "# print(X3_vtrain_all.shape, y3_train.shape )\n",
    "# print(Xcv3_train.shape, y3_train.shape )\n",
    "# print('training above should match')\n",
    "# print( X3_vtest_all.shape, y3_test.shape)\n",
    "# print( Xcv3_test.shape, y3_test.shape)\n",
    "# print('testing above should match')\n",
    "\n",
    "\n",
    "# punctuation\n",
    "X3_vtrain_all['punc_cnt'] = X3_vtrain_all['selftext'].apply(punctuation_cntr)\n",
    "X3_vtest_all['punc_cnt'] = X3_vtest_all['selftext'].apply(punctuation_cntr)\n",
    "# print('here3')\n",
    "# print(X3_vtrain_all.shape, y3_train.shape )\n",
    "# print(Xcv3_train.shape, y3_train.shape )\n",
    "# print('training above should match')\n",
    "# print( X3_vtest_all.shape, y3_test.shape)\n",
    "# print( Xcv3_test.shape, y3_test.shape)\n",
    "# print('testing above should match')\n",
    "\n",
    "# Lower case count\n",
    "X3_vtrain_all['Lcase_counter'] = X3_vtrain_all['selftext'].apply(Lcase_counter)\n",
    "X3_vtest_all['Lcase_counter'] = X3_vtest_all['selftext'].apply(Lcase_counter)\n",
    "# print('here4')\n",
    "# print(X3_vtrain_all.shape, y3_train.shape )\n",
    "# print(Xcv3_train.shape, y3_train.shape )\n",
    "# print('training above should match')\n",
    "# print( X3_vtest_all.shape, y3_test.shape)\n",
    "# print( Xcv3_test.shape, y3_test.shape)\n",
    "# print('testing above should match')\n",
    "\n",
    "# Upper case count \n",
    "X3_vtrain_all['Ucase_counter'] = X3_vtrain_all['selftext'].apply(Ucase_counter)\n",
    "X3_vtest_all['Ucase_counter'] = X3_vtest_all['selftext'].apply(Ucase_counter)\n",
    "# print('here5')\n",
    "# print(X3_vtrain_all.shape, y3_train.shape )\n",
    "# print(Xcv3_train.shape, y3_train.shape )\n",
    "# print('training above should match')\n",
    "# print( X3_vtest_all.shape, y3_test.shape)\n",
    "# print( Xcv3_test.shape, y3_test.shape)\n",
    "# print('testing above should match')\n",
    "\n",
    "# dropping non numerical columns for Logistic Regression model prep \n",
    "X3_vtrain_all.drop(columns=['selftext','title'],inplace=True)\n",
    "X3_vtest_all.drop(columns=['selftext','title'],inplace=True)\n",
    "\n",
    "# resetting index for joining below\n",
    "X3_vtrain_all.reset_index(inplace=True)\n",
    "X3_vtest_all.reset_index(inplace=True)\n",
    "# print('here6')\n",
    "# print(X3_vtrain_all.shape, y3_train.shape )\n",
    "# print(Xcv3_train.shape, y3_train.shape )\n",
    "# print('training above should match')\n",
    "# print( X3_vtest_all.shape, y3_test.shape)\n",
    "# print( Xcv3_test.shape, y3_test.shape)\n",
    "# print('testing above should match')\n",
    "\n",
    "# append these to appropriate train/test dataframes to pass into logistic classifer grid search\n",
    "train_whole = pd.concat([Xcv3_train,X3_vtrain_all], axis=1, join='outer')\n",
    "test_whole = pd.concat([Xcv3_test,X3_vtest_all], axis=1, join='outer')\n",
    "print('train whole shape: ',train_whole.shape,y3_train.shape)\n",
    "\n",
    "# exporting for future models \n",
    "train_whole.to_csv('../data/train_test_whole_dfs/train_whole.csv',index=False)\n",
    "y3_train.to_csv('../data/train_test_whole_dfs/y_train.csv',index=False)\n",
    "test_whole.to_csv('../data/train_test_whole_dfs/test_whole.csv',index=False)\n",
    "y3_test.to_csv('../data/train_test_whole_dfs/y_test.csv',index=False)\n",
    "\n",
    "print('test whole shape: ',test_whole.shape, y3_test.shape)\n",
    "test_whole.head(2)\n"
   ]
  },
  {
   "cell_type": "code",
   "execution_count": null,
   "metadata": {},
   "outputs": [],
   "source": []
  },
  {
   "cell_type": "code",
   "execution_count": 212,
   "metadata": {},
   "outputs": [
    {
     "name": "stdout",
     "output_type": "stream",
     "text": [
      "best score 1.0\n",
      "best params {'model__C': 0.4, 'model__solver': 'newton-cg'}\n",
      "train score 1.0\n",
      "test score 0.9959677419354839\n"
     ]
    },
    {
     "data": {
      "image/png": "[encoded data removed]",
      "text/plain": [
       "<Figure size 432x288 with 2 Axes>"
      ]
     },
     "metadata": {
      "needs_background": "light"
     },
     "output_type": "display_data"
    }
   ],
   "source": [
    "pipe  = Pipeline([ ('model', LogisticRegression(max_iter=10_000)) ])\n",
    "\n",
    "# running with same inital pipe for Logistic Reg model (pipe)\n",
    "hyper_params = {\n",
    "    'model__solver':['newton-cg', 'lbfgs', 'liblinear'],\n",
    "    'model__C' : [0.4,0.5,1] # best params were 0.4-0.5 both previous times\n",
    "}\n",
    "\n",
    "gs_whole = GridSearchCV(pipe, hyper_params,cv=3)\n",
    "\n",
    "\n",
    "gs_whole.fit(train_whole,y3_train)\n",
    "\n",
    "print('best score',gs_whole.best_score_) # best cross validated score (defualt logistic regression - accuracy)\n",
    "print('best params',gs_whole.best_params_)\n",
    "print('train score',gs_whole.score(train_whole,y3_train))\n",
    "print('test score',gs_whole.score(test_whole,y3_test))\n",
    "\n",
    "\n",
    "plot_confusion_matrix(gs_whole,test_whole,y3_test,cmap='Blues',display_labels=['polictial','conspiracy']);"
   ]
  },
  {
   "cell_type": "code",
   "execution_count": 215,
   "metadata": {},
   "outputs": [
    {
     "name": "stdout",
     "output_type": "stream",
     "text": [
      "best score 1.0\n",
      "best params {'model__C': 0.3, 'model__penalty': 'l2', 'model__solver': 'newton-cg'}\n",
      "train score 1.0\n",
      "test score 0.9959677419354839\n"
     ]
    },
    {
     "data": {
      "image/png": "[encoded data removed]",
      "text/plain": [
       "<Figure size 432x288 with 2 Axes>"
      ]
     },
     "metadata": {
      "needs_background": "light"
     },
     "output_type": "display_data"
    }
   ],
   "source": [
    "# check best solver and penalty (l2,none) that are appropriate for it (dropping alpha for none penaly since unnecessary)\n",
    "pipe  = Pipeline([ ('model', LogisticRegression(max_iter=10_000)) ])\n",
    "\n",
    "# running with same inital pipe for Logistic Reg model (pipe)\n",
    "hyper_params = {\n",
    "    'model__penalty':['l2'], # \n",
    "    'model__solver':['newton-cg'], # \n",
    "    'model__C' : [0.3,0.4,0.45,0.5] # best params were 0.4-0.5 both previous times\n",
    "}\n",
    "\n",
    "gs_whole2 = GridSearchCV(pipe, hyper_params,cv=3)\n",
    "\n",
    "\n",
    "gs_whole2.fit(train_whole,y3_train)\n",
    "\n",
    "print('best score',gs_whole2.best_score_) # best cross validated score (defualt logistic regression - accuracy)\n",
    "print('best params',gs_whole2.best_params_)\n",
    "print('train score',gs_whole2.score(train_whole,y3_train))\n",
    "print('test score',gs_whole2.score(test_whole,y3_test))\n",
    "\n",
    "\n",
    "plot_confusion_matrix(gs_whole2,test_whole,y3_test,cmap='Blues',display_labels=['polictial','conspiracy']);"
   ]
  },
  {
   "cell_type": "code",
   "execution_count": 216,
   "metadata": {},
   "outputs": [
    {
     "name": "stdout",
     "output_type": "stream",
     "text": [
      "best score 1.0\n",
      "best params {'model__penalty': 'none', 'model__solver': 'newton-cg'}\n",
      "train score 1.0\n",
      "test score 1.0\n"
     ]
    },
    {
     "data": {
      "image/png": "[encoded data removed]",
      "text/plain": [
       "<Figure size 432x288 with 2 Axes>"
      ]
     },
     "metadata": {
      "needs_background": "light"
     },
     "output_type": "display_data"
    }
   ],
   "source": [
    "# check best solver and penalties that are appropriate for it\n",
    "pipe  = Pipeline([ ('model', LogisticRegression(max_iter=10_000)) ])\n",
    "\n",
    "# running with same inital pipe for Logistic Reg model (pipe)\n",
    "hyper_params = {\n",
    "    'model__penalty':['none'], # \n",
    "    'model__solver':['newton-cg'] # \n",
    "}\n",
    "\n",
    "gs_whole2 = GridSearchCV(pipe, hyper_params,cv=3)\n",
    "\n",
    "\n",
    "gs_whole2.fit(train_whole,y3_train)\n",
    "\n",
    "print('best score',gs_whole2.best_score_) # best cross validated score (defualt logistic regression - accuracy)\n",
    "print('best params',gs_whole2.best_params_)\n",
    "print('train score',gs_whole2.score(train_whole,y3_train))\n",
    "print('test score',gs_whole2.score(test_whole,y3_test))\n",
    "\n",
    "\n",
    "plot_confusion_matrix(gs_whole2,test_whole,y3_test,cmap='Blues',display_labels=['polictial','conspiracy']);"
   ]
  },
  {
   "cell_type": "code",
   "execution_count": null,
   "metadata": {},
   "outputs": [],
   "source": []
  }
 ],
 "metadata": {
  "interpreter": {
   "hash": "40d3a090f54c6569ab1632332b64b2c03c39dcf918b08424e98f38b5ae0af88f"
  },
  "kernelspec": {
   "display_name": "Python 3.8.8 ('base')",
   "language": "python",
   "name": "python3"
  },
  "language_info": {
   "codemirror_mode": {
    "name": "ipython",
    "version": 3
   },
   "file_extension": ".py",
   "mimetype": "text/x-python",
   "name": "python",
   "nbconvert_exporter": "python",
   "pygments_lexer": "ipython3",
   "version": "3.9.7"
  },
  "orig_nbformat": 4
 },
 "nbformat": 4,
 "nbformat_minor": 2
}
