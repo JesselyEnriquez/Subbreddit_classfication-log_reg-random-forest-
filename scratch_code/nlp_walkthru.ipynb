{
 "cells": [
  {
   "cell_type": "markdown",
   "metadata": {},
   "source": [
    "<img src=\"http://imgur.com/1ZcRyrc.png\" style=\"float: left; margin: 20px; height: 55px\">\n",
    "\n",
    "# NLP Walkthrough\n",
    "\n",
    "_Authors: Riley Dallas (AUS)_\n",
    "\n",
    "---\n"
   ]
  },
  {
   "cell_type": "code",
   "execution_count": 2,
   "metadata": {},
   "outputs": [
    {
     "data": {
      "text/html": [
       "<div>\n",
       "<style scoped>\n",
       "    .dataframe tbody tr th:only-of-type {\n",
       "        vertical-align: middle;\n",
       "    }\n",
       "\n",
       "    .dataframe tbody tr th {\n",
       "        vertical-align: top;\n",
       "    }\n",
       "\n",
       "    .dataframe thead th {\n",
       "        text-align: right;\n",
       "    }\n",
       "</style>\n",
       "<table border=\"1\" class=\"dataframe\">\n",
       "  <thead>\n",
       "    <tr style=\"text-align: right;\">\n",
       "      <th></th>\n",
       "      <th>Unnamed: 0</th>\n",
       "      <th>class</th>\n",
       "      <th>text</th>\n",
       "    </tr>\n",
       "  </thead>\n",
       "  <tbody>\n",
       "    <tr>\n",
       "      <th>0</th>\n",
       "      <td>0</td>\n",
       "      <td>ham</td>\n",
       "      <td>Go until jurong point, crazy.. Available only ...</td>\n",
       "    </tr>\n",
       "    <tr>\n",
       "      <th>1</th>\n",
       "      <td>1</td>\n",
       "      <td>ham</td>\n",
       "      <td>Ok lar... Joking wif u oni...</td>\n",
       "    </tr>\n",
       "    <tr>\n",
       "      <th>2</th>\n",
       "      <td>2</td>\n",
       "      <td>spam</td>\n",
       "      <td>Free entry in 2 a wkly comp to win FA Cup fina...</td>\n",
       "    </tr>\n",
       "    <tr>\n",
       "      <th>3</th>\n",
       "      <td>3</td>\n",
       "      <td>ham</td>\n",
       "      <td>U dun say so early hor... U c already then say...</td>\n",
       "    </tr>\n",
       "    <tr>\n",
       "      <th>4</th>\n",
       "      <td>4</td>\n",
       "      <td>ham</td>\n",
       "      <td>Nah I don't think he goes to usf, he lives aro...</td>\n",
       "    </tr>\n",
       "  </tbody>\n",
       "</table>\n",
       "</div>"
      ],
      "text/plain": [
       "   Unnamed: 0 class                                               text\n",
       "0           0   ham  Go until jurong point, crazy.. Available only ...\n",
       "1           1   ham                      Ok lar... Joking wif u oni...\n",
       "2           2  spam  Free entry in 2 a wkly comp to win FA Cup fina...\n",
       "3           3   ham  U dun say so early hor... U c already then say...\n",
       "4           4   ham  Nah I don't think he goes to usf, he lives aro..."
      ]
     },
     "execution_count": 2,
     "metadata": {},
     "output_type": "execute_result"
    }
   ],
   "source": [
    "import pandas as pd\n",
    "from sklearn.linear_model import LogisticRegression\n",
    "from sklearn.model_selection import train_test_split, GridSearchCV\n",
    "from sklearn.pipeline import Pipeline\n",
    "from sklearn.metrics import confusion_matrix, plot_confusion_matrix\n",
    "from sklearn.feature_extraction.text import CountVectorizer\n",
    "\n",
    "df = pd.read_csv('./datasets/sms.csv')\n",
    "df.head()"
   ]
  },
  {
   "cell_type": "markdown",
   "metadata": {},
   "source": [
    "## Load the data\n",
    "---\n",
    "This dataset (`'./datasets/SMSSpamCollection'`) is unique from other CSVs in two ways:\n",
    "1. The columns are separated by tabs instead of commas\n",
    "1. There isn't a header row"
   ]
  },
  {
   "cell_type": "code",
   "execution_count": 4,
   "metadata": {},
   "outputs": [
    {
     "data": {
      "text/html": [
       "<div>\n",
       "<style scoped>\n",
       "    .dataframe tbody tr th:only-of-type {\n",
       "        vertical-align: middle;\n",
       "    }\n",
       "\n",
       "    .dataframe tbody tr th {\n",
       "        vertical-align: top;\n",
       "    }\n",
       "\n",
       "    .dataframe thead th {\n",
       "        text-align: right;\n",
       "    }\n",
       "</style>\n",
       "<table border=\"1\" class=\"dataframe\">\n",
       "  <thead>\n",
       "    <tr style=\"text-align: right;\">\n",
       "      <th></th>\n",
       "      <th>ham</th>\n",
       "      <th>Go until jurong point, crazy.. Available only in bugis n great world la e buffet... Cine there got amore wat...</th>\n",
       "    </tr>\n",
       "  </thead>\n",
       "  <tbody>\n",
       "    <tr>\n",
       "      <th>0</th>\n",
       "      <td>ham</td>\n",
       "      <td>Ok lar... Joking wif u oni...</td>\n",
       "    </tr>\n",
       "    <tr>\n",
       "      <th>1</th>\n",
       "      <td>spam</td>\n",
       "      <td>Free entry in 2 a wkly comp to win FA Cup fina...</td>\n",
       "    </tr>\n",
       "    <tr>\n",
       "      <th>2</th>\n",
       "      <td>ham</td>\n",
       "      <td>U dun say so early hor... U c already then say...</td>\n",
       "    </tr>\n",
       "    <tr>\n",
       "      <th>3</th>\n",
       "      <td>ham</td>\n",
       "      <td>Nah I don't think he goes to usf, he lives aro...</td>\n",
       "    </tr>\n",
       "    <tr>\n",
       "      <th>4</th>\n",
       "      <td>spam</td>\n",
       "      <td>FreeMsg Hey there darling it's been 3 week's n...</td>\n",
       "    </tr>\n",
       "  </tbody>\n",
       "</table>\n",
       "</div>"
      ],
      "text/plain": [
       "    ham  \\\n",
       "0   ham   \n",
       "1  spam   \n",
       "2   ham   \n",
       "3   ham   \n",
       "4  spam   \n",
       "\n",
       "  Go until jurong point, crazy.. Available only in bugis n great world la e buffet... Cine there got amore wat...  \n",
       "0                      Ok lar... Joking wif u oni...                                                               \n",
       "1  Free entry in 2 a wkly comp to win FA Cup fina...                                                               \n",
       "2  U dun say so early hor... U c already then say...                                                               \n",
       "3  Nah I don't think he goes to usf, he lives aro...                                                               \n",
       "4  FreeMsg Hey there darling it's been 3 week's n...                                                               "
      ]
     },
     "execution_count": 4,
     "metadata": {},
     "output_type": "execute_result"
    }
   ],
   "source": [
    "df= pd.read_csv('./datasets/SMSSpamCollection',sep='\\t')\n",
    "df.head() # our first obs was pulled in as he header row\n"
   ]
  },
  {
   "cell_type": "code",
   "execution_count": 6,
   "metadata": {},
   "outputs": [
    {
     "data": {
      "text/html": [
       "<div>\n",
       "<style scoped>\n",
       "    .dataframe tbody tr th:only-of-type {\n",
       "        vertical-align: middle;\n",
       "    }\n",
       "\n",
       "    .dataframe tbody tr th {\n",
       "        vertical-align: top;\n",
       "    }\n",
       "\n",
       "    .dataframe thead th {\n",
       "        text-align: right;\n",
       "    }\n",
       "</style>\n",
       "<table border=\"1\" class=\"dataframe\">\n",
       "  <thead>\n",
       "    <tr style=\"text-align: right;\">\n",
       "      <th></th>\n",
       "      <th>target</th>\n",
       "      <th>text</th>\n",
       "    </tr>\n",
       "  </thead>\n",
       "  <tbody>\n",
       "    <tr>\n",
       "      <th>0</th>\n",
       "      <td>ham</td>\n",
       "      <td>Go until jurong point, crazy.. Available only ...</td>\n",
       "    </tr>\n",
       "    <tr>\n",
       "      <th>1</th>\n",
       "      <td>ham</td>\n",
       "      <td>Ok lar... Joking wif u oni...</td>\n",
       "    </tr>\n",
       "    <tr>\n",
       "      <th>2</th>\n",
       "      <td>spam</td>\n",
       "      <td>Free entry in 2 a wkly comp to win FA Cup fina...</td>\n",
       "    </tr>\n",
       "    <tr>\n",
       "      <th>3</th>\n",
       "      <td>ham</td>\n",
       "      <td>U dun say so early hor... U c already then say...</td>\n",
       "    </tr>\n",
       "    <tr>\n",
       "      <th>4</th>\n",
       "      <td>ham</td>\n",
       "      <td>Nah I don't think he goes to usf, he lives aro...</td>\n",
       "    </tr>\n",
       "  </tbody>\n",
       "</table>\n",
       "</div>"
      ],
      "text/plain": [
       "  target                                               text\n",
       "0    ham  Go until jurong point, crazy.. Available only ...\n",
       "1    ham                      Ok lar... Joking wif u oni...\n",
       "2   spam  Free entry in 2 a wkly comp to win FA Cup fina...\n",
       "3    ham  U dun say so early hor... U c already then say...\n",
       "4    ham  Nah I don't think he goes to usf, he lives aro..."
      ]
     },
     "execution_count": 6,
     "metadata": {},
     "output_type": "execute_result"
    }
   ],
   "source": [
    "df= pd.read_csv('./datasets/SMSSpamCollection',sep='\\t',names=['target','text'])\n",
    "df.head()"
   ]
  },
  {
   "cell_type": "markdown",
   "metadata": {},
   "source": [
    "## Data cleaning\n",
    "---\n",
    "In the cell below, binarize the target column. Spam is the positive class."
   ]
  },
  {
   "cell_type": "code",
   "execution_count": 7,
   "metadata": {},
   "outputs": [
    {
     "data": {
      "text/html": [
       "<div>\n",
       "<style scoped>\n",
       "    .dataframe tbody tr th:only-of-type {\n",
       "        vertical-align: middle;\n",
       "    }\n",
       "\n",
       "    .dataframe tbody tr th {\n",
       "        vertical-align: top;\n",
       "    }\n",
       "\n",
       "    .dataframe thead th {\n",
       "        text-align: right;\n",
       "    }\n",
       "</style>\n",
       "<table border=\"1\" class=\"dataframe\">\n",
       "  <thead>\n",
       "    <tr style=\"text-align: right;\">\n",
       "      <th></th>\n",
       "      <th>target</th>\n",
       "      <th>text</th>\n",
       "    </tr>\n",
       "  </thead>\n",
       "  <tbody>\n",
       "    <tr>\n",
       "      <th>0</th>\n",
       "      <td>0</td>\n",
       "      <td>Go until jurong point, crazy.. Available only ...</td>\n",
       "    </tr>\n",
       "    <tr>\n",
       "      <th>1</th>\n",
       "      <td>0</td>\n",
       "      <td>Ok lar... Joking wif u oni...</td>\n",
       "    </tr>\n",
       "    <tr>\n",
       "      <th>2</th>\n",
       "      <td>1</td>\n",
       "      <td>Free entry in 2 a wkly comp to win FA Cup fina...</td>\n",
       "    </tr>\n",
       "    <tr>\n",
       "      <th>3</th>\n",
       "      <td>0</td>\n",
       "      <td>U dun say so early hor... U c already then say...</td>\n",
       "    </tr>\n",
       "    <tr>\n",
       "      <th>4</th>\n",
       "      <td>0</td>\n",
       "      <td>Nah I don't think he goes to usf, he lives aro...</td>\n",
       "    </tr>\n",
       "  </tbody>\n",
       "</table>\n",
       "</div>"
      ],
      "text/plain": [
       "   target                                               text\n",
       "0       0  Go until jurong point, crazy.. Available only ...\n",
       "1       0                      Ok lar... Joking wif u oni...\n",
       "2       1  Free entry in 2 a wkly comp to win FA Cup fina...\n",
       "3       0  U dun say so early hor... U c already then say...\n",
       "4       0  Nah I don't think he goes to usf, he lives aro..."
      ]
     },
     "execution_count": 7,
     "metadata": {},
     "output_type": "execute_result"
    }
   ],
   "source": [
    "df['target'].replace({'ham':0, 'spam':1}, inplace=True)\n",
    "df.head()"
   ]
  },
  {
   "cell_type": "markdown",
   "metadata": {},
   "source": [
    "## Create `X` and `y`\n",
    "---\n",
    "\n",
    "`CountVectorizer` requires a vector (`pd.Series`) as input, **not a matrix** (`pd.DataFrame`). "
   ]
  },
  {
   "cell_type": "code",
   "execution_count": 8,
   "metadata": {},
   "outputs": [],
   "source": [
    "X= df['text']\n",
    "y= df['target']"
   ]
  },
  {
   "cell_type": "markdown",
   "metadata": {},
   "source": [
    "## Baseline accuracy\n",
    "---\n",
    "In the cell below, calculate the baseline accuracy."
   ]
  },
  {
   "cell_type": "code",
   "execution_count": 9,
   "metadata": {},
   "outputs": [
    {
     "data": {
      "text/plain": [
       "0    0.865937\n",
       "1    0.134063\n",
       "Name: target, dtype: float64"
      ]
     },
     "execution_count": 9,
     "metadata": {},
     "output_type": "execute_result"
    }
   ],
   "source": [
    "y.value_counts(normalize=True)"
   ]
  },
  {
   "cell_type": "markdown",
   "metadata": {},
   "source": [
    "If we were about to balance out the classes (using smote/oversample/undersample) then look at those distributions and those are typically are new baselines. \n",
    "\n",
    "When we work w/text we could duplicate our minority class before vectorizering our text. Could try to use LogisticRegression( class_weight = 'balanced')"
   ]
  },
  {
   "cell_type": "markdown",
   "metadata": {},
   "source": [
    "## Train/Test split\n",
    "---\n",
    "We're assumming the dataset reflects the total population of emails. As such, we'll do a stratified split."
   ]
  },
  {
   "cell_type": "code",
   "execution_count": 10,
   "metadata": {},
   "outputs": [],
   "source": [
    "X_train, X_test, y_train, y_test = train_test_split(X,y,random_state=42,stratify=y)"
   ]
  },
  {
   "cell_type": "code",
   "execution_count": 31,
   "metadata": {},
   "outputs": [],
   "source": [
    "# create a function to categorize spammy text phases into 1 column rather than a bunch of columns\n",
    "def numbers_to_text(X):\n",
    "    return X.str.replace('\\b\\d+\\b','HAS_NUMBER',regex=True) # \\word boundry \\d any digit length \\word boundryu\\\n",
    "    "
   ]
  },
  {
   "cell_type": "code",
   "execution_count": 32,
   "metadata": {},
   "outputs": [],
   "source": [
    "from sklearn.preprocessing import FunctionTransformer # makes functions into a inputable parameter in a pipeline! "
   ]
  },
  {
   "cell_type": "code",
   "execution_count": 33,
   "metadata": {},
   "outputs": [],
   "source": [
    "number_to_text_tf  = FunctionTransformer(numbers_to_text, validate=False)"
   ]
  },
  {
   "cell_type": "markdown",
   "metadata": {},
   "source": [
    "## Pipeline\n",
    "---\n",
    "Create a `Pipeline` object in the cell below with two stages:\n",
    "1. `CountVectorizer`\n",
    "1. A `LogisticRegression` model"
   ]
  },
  {
   "cell_type": "code",
   "execution_count": 34,
   "metadata": {},
   "outputs": [],
   "source": [
    "pipe = Pipeline([\n",
    "    ('number_to_text',number_to_text_tf),\n",
    "    ('cvec', CountVectorizer()),\n",
    "    ('model', LogisticRegression()),\n",
    "\n",
    "])\n"
   ]
  },
  {
   "cell_type": "markdown",
   "metadata": {},
   "source": [
    "## `GridSearchCV`\n",
    "---\n",
    "We've already grid searched on pipelines in previous lectures. This one is unique in that we'll focus on tuning the `CountVectorizer` instead of the model."
   ]
  },
  {
   "cell_type": "code",
   "execution_count": 35,
   "metadata": {},
   "outputs": [
    {
     "name": "stdout",
     "output_type": "stream",
     "text": [
      "0.981095955970328\n",
      "{'cvec__binary': True, 'cvec__ngram_range': (1, 1), 'cvec__stop_words': None, 'model__C': 1.0}\n"
     ]
    },
    {
     "data": {
      "image/png": "[encoded data removed]",
      "text/plain": [
       "<Figure size 432x288 with 2 Axes>"
      ]
     },
     "metadata": {
      "needs_background": "light"
     },
     "output_type": "display_data"
    }
   ],
   "source": [
    "#(1,3) - potential overfitting, time consuming, more features \n",
    "hyper_params = {\n",
    "    'cvec__stop_words': [None, 'english'],\n",
    "    'cvec__ngram_range':[(1,1), (1,3), (1,3)],\n",
    "    'cvec__binary': [False, True],\n",
    "    'model__C' : [1.0, 0.1, 0.001, 0.0001] # chose 1 the first time and then can maybe try higher magnitude values\n",
    "}\n",
    "gs = GridSearchCV(pipe, hyper_params,cv=3)\n",
    "gs.fit(X_train,y_train)\n",
    "print(gs.best_score_) # best cross validated score (defualt logistic regression - accuracy)\n",
    "print(gs.best_params_)\n",
    "plot_confusion_matrix(gs,X_test,y_test,cmap='Blues',display_labels=['ham','spam']); # display_labels[O_class,1_class]"
   ]
  },
  {
   "cell_type": "code",
   "execution_count": 37,
   "metadata": {},
   "outputs": [
    {
     "name": "stdout",
     "output_type": "stream",
     "text": [
      "0.981095955970328\n",
      "{'cvec__binary': True, 'cvec__lowercase': True, 'cvec__max_df': 0.8, 'cvec__ngram_range': (1, 1), 'cvec__stop_words': None, 'model__C': 1.0}\n"
     ]
    },
    {
     "data": {
      "image/png": "[encoded data removed]",
      "text/plain": [
       "<Figure size 432x288 with 2 Axes>"
      ]
     },
     "metadata": {
      "needs_background": "light"
     },
     "output_type": "display_data"
    }
   ],
   "source": [
    "#(1,3) - potential overfitting, time consuming, more features \n",
    "hyper_params = {\n",
    "    'cvec__stop_words': [None, 'english'], \n",
    "    'cvec__max_df':[0.8,0.7,0.65],\n",
    "    'cvec__lowercase':[True,False],\n",
    "    'cvec__ngram_range':[(1,1)],#preferring (1,1) \n",
    "    'cvec__binary': [False, True],\n",
    "    'model__C' : [1.0, 0.1, 0.001, 0.0001] # chose 1 the first time and then can maybe try higher magnitude values\n",
    "}\n",
    "gs = GridSearchCV(pipe, hyper_params,cv=3)\n",
    "gs.fit(X_train,y_train)\n",
    "print(gs.best_score_) # best cross validated score (defualt logistic regression - accuracy)\n",
    "print(gs.best_params_)\n",
    "plot_confusion_matrix(gs,X_test,y_test,cmap='Blues',display_labels=['ham','spam']); # display_labels[O_class,1_class]"
   ]
  },
  {
   "cell_type": "code",
   "execution_count": 39,
   "metadata": {},
   "outputs": [
    {
     "name": "stdout",
     "output_type": "stream",
     "text": [
      "0.9830102895429529\n",
      "{'cvec__binary': True, 'cvec__lowercase': True, 'cvec__max_df': 0.8, 'cvec__max_features': 2000, 'cvec__ngram_range': (1, 1), 'cvec__stop_words': None, 'model__C': 100}\n"
     ]
    },
    {
     "data": {
      "image/png": "[encoded data removed]",
      "text/plain": [
       "<Figure size 432x288 with 2 Axes>"
      ]
     },
     "metadata": {
      "needs_background": "light"
     },
     "output_type": "display_data"
    }
   ],
   "source": [
    "#(1,3) - potential overfitting, time consuming, more features \n",
    "hyper_params = {\n",
    "    'cvec__stop_words': [None, 'english'], \n",
    "    'cvec__max_df':[0.8,0.7,0.65],\n",
    "    'cvec__max_features':[2000,3000,4000],\n",
    "    'cvec__lowercase':[True,False],\n",
    "    'cvec__ngram_range':[(1,1)],#preferring (1,1) \n",
    "    'cvec__binary': [False, True],\n",
    "    'model__C' : [10,100] # chose 1 the first time and then can maybe try higher magnitude values\n",
    "}\n",
    "gs = GridSearchCV(pipe, hyper_params,cv=3)\n",
    "gs.fit(X_train,y_train)\n",
    "print(gs.best_score_) # best cross validated score (defualt logistic regression - accuracy)\n",
    "print(gs.best_params_)\n",
    "plot_confusion_matrix(gs,X_test,y_test,cmap='Blues',display_labels=['ham','spam']); # display_labels[O_class,1_class]"
   ]
  },
  {
   "cell_type": "code",
   "execution_count": 40,
   "metadata": {},
   "outputs": [
    {
     "name": "stdout",
     "output_type": "stream",
     "text": [
      "0.9830102895429529\n",
      "{'cvec__binary': True, 'cvec__lowercase': True, 'cvec__max_df': 0.8, 'cvec__max_features': 2000, 'cvec__ngram_range': (1, 1), 'cvec__stop_words': None, 'model__C': 100}\n"
     ]
    },
    {
     "data": {
      "image/png": "[encoded data removed]",
      "text/plain": [
       "<Figure size 432x288 with 2 Axes>"
      ]
     },
     "metadata": {
      "needs_background": "light"
     },
     "output_type": "display_data"
    }
   ],
   "source": [
    "#(1,3) - potential overfitting, time consuming, more features \n",
    "hyper_params = {\n",
    "    'cvec__stop_words': [None, 'english'], \n",
    "    'cvec__max_df':[0.8,0.7], # likes the max_df so removing \n",
    "    'cvec__max_features':[1500,2000,2500],\n",
    "    'cvec__lowercase':[True,False],\n",
    "    'cvec__ngram_range':[(1,1)],#preferring (1,1) \n",
    "    'cvec__binary': [True],\n",
    "    'model__C' : [10,100] # chose 1 the first time and then can maybe try higher magnitude values\n",
    "}\n",
    "gs = GridSearchCV(pipe, hyper_params,cv=3)\n",
    "gs.fit(X_train,y_train)\n",
    "print(gs.best_score_) # best cross validated score (defualt logistic regression - accuracy)\n",
    "print(gs.best_params_)\n",
    "plot_confusion_matrix(gs,X_test,y_test,cmap='Blues',display_labels=['ham','spam']); # display_labels[O_class,1_class]"
   ]
  },
  {
   "cell_type": "code",
   "execution_count": 44,
   "metadata": {},
   "outputs": [
    {
     "name": "stdout",
     "output_type": "stream",
     "text": [
      "this is now accuracy 0.8982519694094647\n",
      "{'cvec__binary': True, 'cvec__lowercase': True, 'cvec__max_df': 0.8, 'cvec__max_features': 2000, 'cvec__ngram_range': (1, 1), 'cvec__stop_words': None, 'model__C': 100}\n"
     ]
    },
    {
     "data": {
      "image/png": "[encoded data removed]",
      "text/plain": [
       "<Figure size 432x288 with 2 Axes>"
      ]
     },
     "metadata": {
      "needs_background": "light"
     },
     "output_type": "display_data"
    }
   ],
   "source": [
    "#(1,3) - potential overfitting, time consuming, more features \n",
    "hyper_params = {\n",
    "    'cvec__stop_words': [None, 'english'], \n",
    "    'cvec__max_df':[0.8,0.7], # likes the max_df so removing \n",
    "    'cvec__max_features':[1500,2000,2500],\n",
    "    'cvec__lowercase':[True,False],\n",
    "    'cvec__ngram_range':[(1,1)],#preferring (1,1) \n",
    "    'cvec__binary': [True],\n",
    "    'model__C' : [10,100] # chose 1 the first time and then can maybe try higher magnitude values\n",
    "}\n",
    "gs = GridSearchCV(pipe, hyper_params,scoring='recall',cv=3)\n",
    "gs.fit(X_train,y_train)\n",
    "print('this is now accuracy',gs.best_score_) # best cross validated score (defualt logistic regression - accuracy)\n",
    "print(gs.best_params_)\n",
    "plot_confusion_matrix(gs,X_test,y_test,cmap='Blues',display_labels=['ham','spam']); # display_labels[O_class,1_class]"
   ]
  },
  {
   "cell_type": "markdown",
   "metadata": {},
   "source": [
    "## Model Evaluation\n",
    "---\n",
    "Plot a confusion matrix in the cell below."
   ]
  },
  {
   "cell_type": "code",
   "execution_count": 17,
   "metadata": {},
   "outputs": [
    {
     "data": {
      "text/plain": [
       "3360    Sorry I missed your call let's talk when you h...\n",
       "1217    You have 1 new voicemail. Please call 08719181...\n",
       "751     Do you realize that in about 40 years, we'll h...\n",
       "2823    ROMCAPspam Everyone around should be respondin...\n",
       "4473      3. You have received your mobile content. Enjoy\n",
       "607     XCLUSIVE@CLUBSAISAI 2MOROW 28/5 SOIREE SPECIAL...\n",
       "2352    Download as many ringtones as u like no restri...\n",
       "1274    network operator. The service is free. For T &...\n",
       "1460    Bought one ringtone and now getting texts cost...\n",
       "2804                    FreeMsg>FAV XMAS TONES!Reply REAL\n",
       "761     Romantic Paris. 2 nights, 2 flights from £79 B...\n",
       "3981                                   ringtoneking 84484\n",
       "2247    Hi ya babe x u 4goten bout me?' scammers getti...\n",
       "4506    Mobile Club: Choose any of the top quality ite...\n",
       "1940    More people are dogging in your area now. Call...\n",
       "2863    Adult 18 Content Your video will be with you s...\n",
       "1269    Can U get 2 phone NOW? I wanna chat 2 set up m...\n",
       "5540    ASKED 3MOBILE IF 0870 CHATLINES INCLU IN FREE ...\n",
       "3302             RCT' THNQ Adrian for U text. Rgds Vatian\n",
       "5449    Latest News! Police station toilet stolen, cop...\n",
       "1638    0A$NETWORKS allow companies to bill for SMS, s...\n",
       "788     Ever thought about living a good life with a p...\n",
       "1430    For sale - arsenal dartboard. Good condition b...\n",
       "731     Email AlertFrom: Jeri StewartSize: 2KBSubject:...\n",
       "5466    http//tms. widelive.com/index. wml?id=820554ad...\n",
       "3272    You have 1 new voicemail. Please call 08719181...\n",
       "3750    Dear Voucher Holder 2 claim your 1st class air...\n",
       "4475    Want explicit SEX in 30 secs? Ring 02073162414...\n",
       "1154    1000's of girls many local 2 u who r virgins 2...\n",
       "4616    Sunshine Quiz! Win a super Sony DVD recorder i...\n",
       "Name: text, dtype: object"
      ]
     },
     "execution_count": 17,
     "metadata": {},
     "output_type": "execute_result"
    }
   ],
   "source": [
    " # filtering to1 look at where we are wrong\n",
    "preds = gs.predict(X_test)\n",
    "mask = (y_test!=preds)&(preds==0)\n",
    "X_test[mask]"
   ]
  },
  {
   "cell_type": "code",
   "execution_count": null,
   "metadata": {},
   "outputs": [],
   "source": []
  }
 ],
 "metadata": {
  "kernelspec": {
   "display_name": "Python 3",
   "language": "python",
   "name": "python3"
  },
  "language_info": {
   "codemirror_mode": {
    "name": "ipython",
    "version": 3
   },
   "file_extension": ".py",
   "mimetype": "text/x-python",
   "name": "python",
   "nbconvert_exporter": "python",
   "pygments_lexer": "ipython3",
   "version": "3.8.8"
  }
 },
 "nbformat": 4,
 "nbformat_minor": 4
}
