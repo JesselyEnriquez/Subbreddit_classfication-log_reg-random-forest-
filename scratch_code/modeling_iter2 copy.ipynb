{
 "cells": [
  {
   "cell_type": "code",
   "execution_count": 10,
   "metadata": {},
   "outputs": [],
   "source": [
    "import pandas as pd\n",
    "import numpy as np\n",
    "from sklearn.pipeline import Pipeline\n",
    "from sklearn.feature_extraction.text import CountVectorizer\n",
    "from sklearn.linear_model import LogisticRegression\n",
    "\n",
    "from sklearn.ensemble import RandomForestClassifier, ExtraTreesClassifier\n",
    "from sklearn.model_selection import cross_val_score, train_test_split, GridSearchCV\n",
    "from sklearn.metrics import confusion_matrix, plot_confusion_matrix\n"
   ]
  },
  {
   "cell_type": "code",
   "execution_count": 11,
   "metadata": {},
   "outputs": [
    {
     "data": {
      "text/html": [
       "<div>\n",
       "<style scoped>\n",
       "    .dataframe tbody tr th:only-of-type {\n",
       "        vertical-align: middle;\n",
       "    }\n",
       "\n",
       "    .dataframe tbody tr th {\n",
       "        vertical-align: top;\n",
       "    }\n",
       "\n",
       "    .dataframe thead th {\n",
       "        text-align: right;\n",
       "    }\n",
       "</style>\n",
       "<table border=\"1\" class=\"dataframe\">\n",
       "  <thead>\n",
       "    <tr style=\"text-align: right;\">\n",
       "      <th></th>\n",
       "      <th>selftext</th>\n",
       "      <th>title</th>\n",
       "      <th>target</th>\n",
       "    </tr>\n",
       "  </thead>\n",
       "  <tbody>\n",
       "    <tr>\n",
       "      <th>0</th>\n",
       "      <td>There are a lot of chauvinists in the U S who ...</td>\n",
       "      <td>Is Kamala Harris more at risk of assassination...</td>\n",
       "      <td>0</td>\n",
       "    </tr>\n",
       "    <tr>\n",
       "      <th>1</th>\n",
       "      <td>Let me explain The name of your movement shoul...</td>\n",
       "      <td>A push labeled Let mothers hold their babies</td>\n",
       "      <td>0</td>\n",
       "    </tr>\n",
       "    <tr>\n",
       "      <th>2</th>\n",
       "      <td>I have read about some horrific pit bull attac...</td>\n",
       "      <td>Why don t we see politicians supporting pit bu...</td>\n",
       "      <td>0</td>\n",
       "    </tr>\n",
       "    <tr>\n",
       "      <th>3</th>\n",
       "      <td>Some international observers have argued that ...</td>\n",
       "      <td>What threat does EU expansion pose towards Russia</td>\n",
       "      <td>0</td>\n",
       "    </tr>\n",
       "    <tr>\n",
       "      <th>4</th>\n",
       "      <td>Every definition of the term implies cheating ...</td>\n",
       "      <td>Why is gerrymandering legal</td>\n",
       "      <td>0</td>\n",
       "    </tr>\n",
       "  </tbody>\n",
       "</table>\n",
       "</div>"
      ],
      "text/plain": [
       "                                            selftext  \\\n",
       "0  There are a lot of chauvinists in the U S who ...   \n",
       "1  Let me explain The name of your movement shoul...   \n",
       "2  I have read about some horrific pit bull attac...   \n",
       "3  Some international observers have argued that ...   \n",
       "4  Every definition of the term implies cheating ...   \n",
       "\n",
       "                                               title  target  \n",
       "0  Is Kamala Harris more at risk of assassination...       0  \n",
       "1       A push labeled Let mothers hold their babies       0  \n",
       "2  Why don t we see politicians supporting pit bu...       0  \n",
       "3  What threat does EU expansion pose towards Russia       0  \n",
       "4                        Why is gerrymandering legal       0  "
      ]
     },
     "execution_count": 11,
     "metadata": {},
     "output_type": "execute_result"
    }
   ],
   "source": [
    "df_main = pd.read_csv('../data/cleaned_main.csv')\n",
    "# exporting for future models \n",
    "train_whole = pd.read_csv('../data/train_test_whole_dfs/train_whole.csv')\n",
    "y3_train = pd.read_csv('../data/train_test_whole_dfs/y_train.csv').reset_index(drop=True)\n",
    "test_whole = pd.read_csv('../data/train_test_whole_dfs/test_whole.csv')\n",
    "y3_test = pd.read_csv('../data/train_test_whole_dfs/y_test.csv').reset_index(drop=True)\n",
    "df_main.head()"
   ]
  },
  {
   "cell_type": "code",
   "execution_count": null,
   "metadata": {},
   "outputs": [],
   "source": []
  },
  {
   "cell_type": "code",
   "execution_count": 12,
   "metadata": {},
   "outputs": [
    {
     "name": "stdout",
     "output_type": "stream",
     "text": [
      "train whole shape:  (1485, 3005) (1485, 1)\n",
      "test whole shape:  (496, 3005) (496, 1)\n"
     ]
    }
   ],
   "source": [
    "print('train whole shape: ',train_whole.shape,y3_train.shape)\n",
    "print('test whole shape: ',test_whole.shape, y3_test.shape)\n",
    "# # should return the following\n",
    "# train whole shape:  (1485, 3005) (1485,)\n",
    "# test whole shape:  (496, 3005) (496,)"
   ]
  },
  {
   "cell_type": "code",
   "execution_count": 13,
   "metadata": {},
   "outputs": [
    {
     "name": "stdout",
     "output_type": "stream",
     "text": [
      "target\n",
      "0         0.50303\n",
      "1         0.49697\n",
      "dtype: float64\n"
     ]
    },
    {
     "data": {
      "text/plain": [
       "target\n",
       "0         0.504032\n",
       "1         0.495968\n",
       "dtype: float64"
      ]
     },
     "execution_count": 13,
     "metadata": {},
     "output_type": "execute_result"
    }
   ],
   "source": [
    "# sanity check that this is still representative of a train_test_split \n",
    "print(y3_train.value_counts(normalize=True))\n",
    "y3_test.value_counts(normalize=True)"
   ]
  },
  {
   "cell_type": "code",
   "execution_count": 25,
   "metadata": {},
   "outputs": [
    {
     "name": "stdout",
     "output_type": "stream",
     "text": [
      "selftext    19\n",
      "title        0\n",
      "target       0\n",
      "dtype: int64\n"
     ]
    },
    {
     "data": {
      "text/html": [
       "<div>\n",
       "<style scoped>\n",
       "    .dataframe tbody tr th:only-of-type {\n",
       "        vertical-align: middle;\n",
       "    }\n",
       "\n",
       "    .dataframe tbody tr th {\n",
       "        vertical-align: top;\n",
       "    }\n",
       "\n",
       "    .dataframe thead th {\n",
       "        text-align: right;\n",
       "    }\n",
       "</style>\n",
       "<table border=\"1\" class=\"dataframe\">\n",
       "  <thead>\n",
       "    <tr style=\"text-align: right;\">\n",
       "      <th></th>\n",
       "      <th>selftext</th>\n",
       "      <th>title</th>\n",
       "      <th>target</th>\n",
       "    </tr>\n",
       "  </thead>\n",
       "  <tbody>\n",
       "    <tr>\n",
       "      <th>6</th>\n",
       "      <td>NaN</td>\n",
       "      <td>Serious What would happen if after the war in ...</td>\n",
       "      <td>0</td>\n",
       "    </tr>\n",
       "    <tr>\n",
       "      <th>233</th>\n",
       "      <td>NaN</td>\n",
       "      <td>if u are a capitalist why are u not a communis...</td>\n",
       "      <td>0</td>\n",
       "    </tr>\n",
       "    <tr>\n",
       "      <th>925</th>\n",
       "      <td>NaN</td>\n",
       "      <td>When and how did India help the USA during the...</td>\n",
       "      <td>0</td>\n",
       "    </tr>\n",
       "    <tr>\n",
       "      <th>1000</th>\n",
       "      <td>NaN</td>\n",
       "      <td>WEF looking to Memory Hole large parts of the ...</td>\n",
       "      <td>1</td>\n",
       "    </tr>\n",
       "    <tr>\n",
       "      <th>1034</th>\n",
       "      <td>NaN</td>\n",
       "      <td>I found another video of the Americans in Ukraine</td>\n",
       "      <td>1</td>\n",
       "    </tr>\n",
       "    <tr>\n",
       "      <th>1259</th>\n",
       "      <td>NaN</td>\n",
       "      <td>Watch my New video on TikTok about Military Se...</td>\n",
       "      <td>1</td>\n",
       "    </tr>\n",
       "    <tr>\n",
       "      <th>1273</th>\n",
       "      <td>NaN</td>\n",
       "      <td>U S Mercenaries are in Ukraine fighting Russia...</td>\n",
       "      <td>1</td>\n",
       "    </tr>\n",
       "    <tr>\n",
       "      <th>1325</th>\n",
       "      <td>NaN</td>\n",
       "      <td>A study led by scientists from the Arctic Univ...</td>\n",
       "      <td>1</td>\n",
       "    </tr>\n",
       "    <tr>\n",
       "      <th>1327</th>\n",
       "      <td>NaN</td>\n",
       "      <td>The Jesuits have a supremacy over the Intellig...</td>\n",
       "      <td>1</td>\n",
       "    </tr>\n",
       "    <tr>\n",
       "      <th>1330</th>\n",
       "      <td>NaN</td>\n",
       "      <td>A study led by scientists from the Arctic Univ...</td>\n",
       "      <td>1</td>\n",
       "    </tr>\n",
       "    <tr>\n",
       "      <th>1373</th>\n",
       "      <td>NaN</td>\n",
       "      <td>What do Jack the Ripper the Titanic investigat...</td>\n",
       "      <td>1</td>\n",
       "    </tr>\n",
       "    <tr>\n",
       "      <th>1444</th>\n",
       "      <td>NaN</td>\n",
       "      <td>Xi will not give up invading Taiwan</td>\n",
       "      <td>1</td>\n",
       "    </tr>\n",
       "    <tr>\n",
       "      <th>1522</th>\n",
       "      <td>NaN</td>\n",
       "      <td>Pfizer s COVID vaccine Doc s seen few some int...</td>\n",
       "      <td>1</td>\n",
       "    </tr>\n",
       "    <tr>\n",
       "      <th>1534</th>\n",
       "      <td>NaN</td>\n",
       "      <td>Fra Matthew Festing the th Grand Master of the...</td>\n",
       "      <td>1</td>\n",
       "    </tr>\n",
       "    <tr>\n",
       "      <th>1629</th>\n",
       "      <td>NaN</td>\n",
       "      <td>Bidens SCOTUS pick doesn t know what a woman i...</td>\n",
       "      <td>1</td>\n",
       "    </tr>\n",
       "    <tr>\n",
       "      <th>1673</th>\n",
       "      <td>NaN</td>\n",
       "      <td>Family Guy did a Jefferey Epstein didn t kill ...</td>\n",
       "      <td>1</td>\n",
       "    </tr>\n",
       "    <tr>\n",
       "      <th>1695</th>\n",
       "      <td>NaN</td>\n",
       "      <td>Second American Civil War movies compilation U...</td>\n",
       "      <td>1</td>\n",
       "    </tr>\n",
       "    <tr>\n",
       "      <th>1735</th>\n",
       "      <td>NaN</td>\n",
       "      <td>The strange link between the sterilization of ...</td>\n",
       "      <td>1</td>\n",
       "    </tr>\n",
       "    <tr>\n",
       "      <th>1956</th>\n",
       "      <td>NaN</td>\n",
       "      <td>New Reports of U S Boots on the Ground in Ukra...</td>\n",
       "      <td>1</td>\n",
       "    </tr>\n",
       "  </tbody>\n",
       "</table>\n",
       "</div>"
      ],
      "text/plain": [
       "     selftext                                              title  target\n",
       "6         NaN  Serious What would happen if after the war in ...       0\n",
       "233       NaN  if u are a capitalist why are u not a communis...       0\n",
       "925       NaN  When and how did India help the USA during the...       0\n",
       "1000      NaN  WEF looking to Memory Hole large parts of the ...       1\n",
       "1034      NaN  I found another video of the Americans in Ukraine       1\n",
       "1259      NaN  Watch my New video on TikTok about Military Se...       1\n",
       "1273      NaN  U S Mercenaries are in Ukraine fighting Russia...       1\n",
       "1325      NaN  A study led by scientists from the Arctic Univ...       1\n",
       "1327      NaN  The Jesuits have a supremacy over the Intellig...       1\n",
       "1330      NaN  A study led by scientists from the Arctic Univ...       1\n",
       "1373      NaN  What do Jack the Ripper the Titanic investigat...       1\n",
       "1444      NaN                Xi will not give up invading Taiwan       1\n",
       "1522      NaN  Pfizer s COVID vaccine Doc s seen few some int...       1\n",
       "1534      NaN  Fra Matthew Festing the th Grand Master of the...       1\n",
       "1629      NaN  Bidens SCOTUS pick doesn t know what a woman i...       1\n",
       "1673      NaN  Family Guy did a Jefferey Epstein didn t kill ...       1\n",
       "1695      NaN  Second American Civil War movies compilation U...       1\n",
       "1735      NaN  The strange link between the sterilization of ...       1\n",
       "1956      NaN  New Reports of U S Boots on the Ground in Ukra...       1"
      ]
     },
     "execution_count": 25,
     "metadata": {},
     "output_type": "execute_result"
    }
   ],
   "source": [
    "# quickly confirming these are acceptable to be dropped\n",
    "print(df_main.isnull().sum())\n",
    "df_main[df_main['selftext'].isnull()]"
   ]
  },
  {
   "cell_type": "code",
   "execution_count": 26,
   "metadata": {},
   "outputs": [
    {
     "name": "stdout",
     "output_type": "stream",
     "text": [
      "19\n",
      "0\n"
     ]
    }
   ],
   "source": [
    "# checking to make sure posts that only had a title are removed to establish correct baseline\n",
    "print(df_main['selftext'].isnull().sum())\n",
    "df_main.dropna(inplace=True) # random empty selftext or titles\n",
    "print(df_main['selftext'].isnull().sum())"
   ]
  },
  {
   "cell_type": "code",
   "execution_count": 29,
   "metadata": {},
   "outputs": [
    {
     "data": {
      "text/plain": [
       "0.5032811711256941"
      ]
     },
     "execution_count": 29,
     "metadata": {},
     "output_type": "execute_result"
    }
   ],
   "source": [
    "# baseline accuracy (what we want to perform better)\n",
    "df_main['target'].value_counts(normalize=True)[0]"
   ]
  },
  {
   "cell_type": "markdown",
   "metadata": {},
   "source": [
    "Because of the careful cleaning we have a evenly split dataset that we want to perform better than just having a 50% chance of guessing whether a post is from the Conspiracy subreddit versus AskPolitics subreddit."
   ]
  },
  {
   "cell_type": "code",
   "execution_count": null,
   "metadata": {},
   "outputs": [],
   "source": []
  },
  {
   "cell_type": "markdown",
   "metadata": {},
   "source": [
    "---\n",
    "Best log classifier model below (refresher)"
   ]
  },
  {
   "cell_type": "code",
   "execution_count": 25,
   "metadata": {},
   "outputs": [
    {
     "name": "stdout",
     "output_type": "stream",
     "text": [
      "best score 1.0\n",
      "best params {'model__penalty': 'none', 'model__solver': 'newton-cg'}\n",
      "train score 1.0\n",
      "test score 1.0\n"
     ]
    },
    {
     "data": {
      "image/png": "[encoded data removed]",
      "text/plain": [
       "<Figure size 432x288 with 2 Axes>"
      ]
     },
     "metadata": {
      "needs_background": "light"
     },
     "output_type": "display_data"
    }
   ],
   "source": [
    "# best results from linear regression\n",
    "pipe  = Pipeline([ ('model', LogisticRegression(max_iter=10_000)) ])\n",
    "\n",
    "# running with same inital pipe for Logistic Reg model (pipe)\n",
    "hyper_params = {\n",
    "    'model__penalty':['none'], # \n",
    "    'model__solver':['newton-cg'] # \n",
    "}\n",
    "\n",
    "gs_whole2 = GridSearchCV(pipe, hyper_params,cv=3)\n",
    "gs_whole2.fit(train_whole,y3_train['target'])\n",
    "\n",
    "print('best score',gs_whole2.best_score_) # best cross validated score (defualt logistic regression - accuracy)\n",
    "print('best params',gs_whole2.best_params_)\n",
    "print('train score',gs_whole2.score(train_whole,y3_train['target']))\n",
    "print('test score',gs_whole2.score(test_whole,y3_test['target']))\n",
    "\n",
    "\n",
    "plot_confusion_matrix(gs_whole2,test_whole,y3_test,cmap='Blues',display_labels=['polictial','conspiracy']);"
   ]
  },
  {
   "cell_type": "markdown",
   "metadata": {},
   "source": [
    "best log classification model above \n",
    "___"
   ]
  },
  {
   "cell_type": "markdown",
   "metadata": {},
   "source": [
    "--- \n",
    "Model Random Forest"
   ]
  },
  {
   "cell_type": "code",
   "execution_count": 38,
   "metadata": {},
   "outputs": [
    {
     "data": {
      "text/plain": [
       "576     1\n",
       "667     1\n",
       "830     1\n",
       "940     1\n",
       "975     1\n",
       "1226    1\n",
       "1257    1\n",
       "1322    1\n",
       "Name: target, dtype: int64"
      ]
     },
     "execution_count": 38,
     "metadata": {},
     "output_type": "execute_result"
    }
   ],
   "source": [
    "\n",
    "# these are the actual observations that contained target within the selftext or title \n",
    "train_whole[train_whole['target']>=1]['target']"
   ]
  },
  {
   "cell_type": "code",
   "execution_count": 51,
   "metadata": {},
   "outputs": [
    {
     "name": "stdout",
     "output_type": "stream",
     "text": [
      "cross val score 1.0\n",
      "1.0\n",
      "training score:  1.0\n",
      "test score:  1.0\n"
     ]
    }
   ],
   "source": [
    "# have to ensure that only the \n",
    "y3_train = y3_train['target']\n",
    "y3_test = y3_test['target']\n",
    "rf = RandomForestClassifier(n_estimators=100)  # only creating 100 decision tree\n",
    "print('cross val score',cross_val_score(rf, train_whole, y3_train, cv = 5).mean())\n",
    "rf_params = {\n",
    "    'n_estimators': [100, 150, 200],\n",
    "    'max_depth':[None, 1, 2, 3, 4, 5],\n",
    "}\n",
    "gs = GridSearchCV(rf, param_grid = rf_params,\n",
    "                 cv = 5, n_jobs = -1)\n",
    "\n",
    "gs.fit(train_whole, y3_train)\n",
    "print(gs.best_score_)\n",
    "gs.best_params_\n",
    "print('training score: ',gs.score(train_whole,y3_train))\n",
    "print('testing score:',gs.score(test_whole,y3_test))"
   ]
  },
  {
   "cell_type": "code",
   "execution_count": 77,
   "metadata": {},
   "outputs": [
    {
     "name": "stdout",
     "output_type": "stream",
     "text": [
      "cross val score:  0.7542087542087541\n",
      "best score:  0.7548821548821549\n",
      "best params:  {'max_depth': None, 'n_estimators': 150}\n",
      "This is the baseline we want to perform better than 0.5032811711256941\n",
      "training score:  0.997979797979798\n",
      "test score:  0.8004032258064516\n"
     ]
    }
   ],
   "source": [
    "# RANDOM FOREST ON ORIGINAL DATASET WITHOUT (UPPER/LOWER CASE COUNT OR PUNCTUATION COUNT )\n",
    "X = df_main.drop(columns=['target'])\n",
    "y = df_main['target']\n",
    "X_train, X_test, y_train, y_test = train_test_split(X,y,random_state=42,stratify=y)\n",
    "\n",
    "# instantiate a vectorizer with parameters from grid search used to create (whole train/test dataframes in model above)\n",
    "cvec = CountVectorizer(stop_words='english', # eliminating the basic stop words\n",
    "                       binary=True,\n",
    "                       lowercase =False, # we want to pay attention to case sensitivity later\n",
    "                        max_df= 0.75, # this is a form of creating a customized stop words list \n",
    "                        max_features= 3000,ngram_range=(1,1) ) \n",
    "\n",
    "# fit and transform on self text\n",
    "Xv_train = cvec.fit_transform(X_train['selftext'])\n",
    "Xv_test = cvec.transform(X_test['selftext'])\n",
    "\n",
    "# Convert X_train and X_test into a DataFrame.\n",
    "Xv_train_rf = pd.DataFrame(Xv_train.todense(),columns=cvec.get_feature_names())\n",
    "Xv_test_rf = pd.DataFrame(Xv_test.todense(),columns=cvec.get_feature_names())\n",
    "\n",
    "# initializing random forest model + grid search params\n",
    "rf = RandomForestClassifier(n_estimators=100)  # only creating 100 decision tree\n",
    "print('cross val score: ',cross_val_score(rf, Xv_train_rf, y_train, cv = 5).mean())\n",
    "rf_params = {\n",
    "    'n_estimators': [100, 150, 200],\n",
    "    'max_depth':[None, 1, 2, 3, 4, 5],\n",
    "}\n",
    "gs = GridSearchCV(rf, param_grid = rf_params,\n",
    "                 cv = 5, n_jobs = -1)\n",
    "# fitting to training data/outputing model evaluation\n",
    "gs.fit(Xv_train_rf, y_train)\n",
    "print('best score: ',gs.best_score_)\n",
    "print('best params: ',gs.best_params_)\n",
    "print('This is the baseline we want to perform better than',y.value_counts(normalize=True)[0])\n",
    "print('training score: ',gs.score(Xv_train_rf,y_train))\n",
    "print('test score: ',gs.score(Xv_test_rf,y_test))"
   ]
  },
  {
   "cell_type": "code",
   "execution_count": null,
   "metadata": {},
   "outputs": [],
   "source": []
  }
 ],
 "metadata": {
  "interpreter": {
   "hash": "40d3a090f54c6569ab1632332b64b2c03c39dcf918b08424e98f38b5ae0af88f"
  },
  "kernelspec": {
   "display_name": "Python 3.8.8 ('base')",
   "language": "python",
   "name": "python3"
  },
  "language_info": {
   "codemirror_mode": {
    "name": "ipython",
    "version": 3
   },
   "file_extension": ".py",
   "mimetype": "text/x-python",
   "name": "python",
   "nbconvert_exporter": "python",
   "pygments_lexer": "ipython3",
   "version": "3.9.7"
  },
  "orig_nbformat": 4
 },
 "nbformat": 4,
 "nbformat_minor": 2
}
